{
  "cells": [
    {
      "cell_type": "markdown",
      "metadata": {
        "id": "view-in-github",
        "colab_type": "text"
      },
      "source": [
        "<a href=\"https://colab.research.google.com/github/ArifAygun/CustomerEye/blob/main/Company_Reviews(11).ipynb\" target=\"_parent\"><img src=\"https://colab.research.google.com/assets/colab-badge.svg\" alt=\"Open In Colab\"/></a>"
      ]
    },
    {
      "cell_type": "markdown",
      "metadata": {
        "id": "cATpMArqxccp"
      },
      "source": [
        "#### IMPORT LIBRARIES AND DATASET"
      ]
    },
    {
      "cell_type": "code",
      "source": [
        "!pip install pycountry"
      ],
      "metadata": {
        "id": "qwfKsV5ewLav",
        "colab": {
          "base_uri": "https://localhost:8080/"
        },
        "outputId": "144d99b0-8d10-431e-b7bd-d899476cecac"
      },
      "execution_count": 12,
      "outputs": [
        {
          "output_type": "stream",
          "name": "stdout",
          "text": [
            "Requirement already satisfied: pycountry in /usr/local/lib/python3.10/dist-packages (23.12.11)\n"
          ]
        }
      ]
    },
    {
      "cell_type": "code",
      "execution_count": 13,
      "metadata": {
        "id": "PHHa63S7NpXC",
        "tags": [],
        "colab": {
          "base_uri": "https://localhost:8080/"
        },
        "outputId": "e89eef7b-c6b1-4b7c-8f91-2ac2c223323d"
      },
      "outputs": [
        {
          "output_type": "stream",
          "name": "stderr",
          "text": [
            "[nltk_data] Downloading package punkt to /root/nltk_data...\n",
            "[nltk_data]   Package punkt is already up-to-date!\n",
            "[nltk_data] Downloading package stopwords to /root/nltk_data...\n",
            "[nltk_data]   Package stopwords is already up-to-date!\n",
            "[nltk_data] Downloading package wordnet to /root/nltk_data...\n",
            "[nltk_data]   Package wordnet is already up-to-date!\n"
          ]
        },
        {
          "output_type": "execute_result",
          "data": {
            "text/plain": [
              "True"
            ]
          },
          "metadata": {},
          "execution_count": 13
        }
      ],
      "source": [
        "import re\n",
        "import pandas as pd\n",
        "import numpy as np\n",
        "import seaborn as sns\n",
        "import matplotlib.pyplot as plt\n",
        "import matplotlib.font_manager as fm\n",
        "import matplotlib.dates as mdates\n",
        "import pycountry\n",
        "\n",
        "import nltk\n",
        "from nltk.tokenize import word_tokenize\n",
        "from nltk.corpus import stopwords\n",
        "from nltk.stem import WordNetLemmatizer\n",
        "nltk.download('punkt')\n",
        "nltk.download('stopwords')\n",
        "nltk.download('wordnet')"
      ]
    },
    {
      "cell_type": "code",
      "source": [
        "from google.colab import drive\n",
        "import pandas as pd\n",
        "\n",
        "# Mount Google Drive\n",
        "drive.mount('/content/drive/')\n",
        "\n",
        "# Change directory to the analysis folder\n",
        "%cd /content/drive/My Drive/Analysis_1/\n",
        "\n",
        "# Read CSV files into DataFrames\n",
        "df1 = pd.read_csv('Freedom_Debt_Relief.csv')\n",
        "df2 = pd.read_csv('Millennium_Trust.csv')\n",
        "df3 = pd.read_csv('Advance_America.csv')\n",
        "\n",
        "print(df1.info(), df1.head())\n",
        "print(df2.info(), df2.head())\n",
        "print(df3.info(), df3.head())"
      ],
      "metadata": {
        "id": "GvtJHxqgQB3b",
        "colab": {
          "base_uri": "https://localhost:8080/"
        },
        "outputId": "2570a31d-e98a-4bae-f458-ca2416f61f17"
      },
      "execution_count": 14,
      "outputs": [
        {
          "output_type": "stream",
          "name": "stdout",
          "text": [
            "Drive already mounted at /content/drive/; to attempt to forcibly remount, call drive.mount(\"/content/drive/\", force_remount=True).\n",
            "/content/drive/My Drive/Analysis_1\n",
            "<class 'pandas.core.frame.DataFrame'>\n",
            "RangeIndex: 39078 entries, 0 to 39077\n",
            "Data columns (total 10 columns):\n",
            " #   Column           Non-Null Count  Dtype \n",
            "---  ------           --------------  ----- \n",
            " 0   Reviewer Name    39068 non-null  object\n",
            " 1   Reviews Count    39078 non-null  object\n",
            " 2   Country Code     39078 non-null  object\n",
            " 3   Experience Date  39078 non-null  object\n",
            " 4   Rating           39078 non-null  int64 \n",
            " 5   Review Date      39078 non-null  object\n",
            " 6   Review Title     39074 non-null  object\n",
            " 7   Review Text      34241 non-null  object\n",
            " 8   Reply Date       37731 non-null  object\n",
            " 9   Reply Text       37731 non-null  object\n",
            "dtypes: int64(1), object(9)\n",
            "memory usage: 3.0+ MB\n",
            "None     Reviewer Name Reviews Count Country Code    Experience Date  Rating  \\\n",
            "0  Andrea Sciotti      2reviews           US  December 04, 2019       5   \n",
            "1    Wendy Sicard       1review           US  December 04, 2019       5   \n",
            "2     Freida Towe       1review           US  December 04, 2019       5   \n",
            "3   Jabrea Herron       1review           US  December 04, 2019       5   \n",
            "4    William Lutz      2reviews           US  December 04, 2019       5   \n",
            "\n",
            "   Review Date                     Review Title  \\\n",
            "0  Dec 4, 2019       Working on a better future   \n",
            "1  Dec 4, 2019                 Was very helpful   \n",
            "2  Dec 4, 2019             Very polite and kind   \n",
            "3  Dec 4, 2019           Great customer service   \n",
            "4  Dec 4, 2019  Needed an answer to a question…   \n",
            "\n",
            "                                         Review Text  \\\n",
            "0                                                NaN   \n",
            "1                                                NaN   \n",
            "2  Very polite and kind. Did what I asked immedia...   \n",
            "3  There wasn't a long wait time . The representa...   \n",
            "4  Needed an answer to a question concerning a pa...   \n",
            "\n",
            "                                  Reply Date  \\\n",
            "0  Reply from Freedom Debt ReliefDec 4, 2019   \n",
            "1  Reply from Freedom Debt ReliefDec 4, 2019   \n",
            "2  Reply from Freedom Debt ReliefDec 4, 2019   \n",
            "3  Reply from Freedom Debt ReliefDec 5, 2019   \n",
            "4  Reply from Freedom Debt ReliefDec 4, 2019   \n",
            "\n",
            "                                          Reply Text  \n",
            "0  Hello, Andrea, thank you for your review! We w...  \n",
            "1  Hello, Wendy, thank you for your review! We wo...  \n",
            "2  Thank you very much, Freida! We truly care abo...  \n",
            "3  Jabrea, We are so happy to hear that you are h...  \n",
            "4  Hello William, thank you for sharing your expe...  \n",
            "<class 'pandas.core.frame.DataFrame'>\n",
            "RangeIndex: 39328 entries, 0 to 39327\n",
            "Data columns (total 10 columns):\n",
            " #   Column           Non-Null Count  Dtype \n",
            "---  ------           --------------  ----- \n",
            " 0   Reviewer Name    39309 non-null  object\n",
            " 1   Reviews Count    39328 non-null  object\n",
            " 2   Country Code     39327 non-null  object\n",
            " 3   Experience Date  39328 non-null  object\n",
            " 4   Rating           39328 non-null  int64 \n",
            " 5   Review Date      39328 non-null  object\n",
            " 6   Review Title     39328 non-null  object\n",
            " 7   Review Text      31919 non-null  object\n",
            " 8   Reply Date       30649 non-null  object\n",
            " 9   Reply Text       30649 non-null  object\n",
            "dtypes: int64(1), object(9)\n",
            "memory usage: 3.0+ MB\n",
            "None            Reviewer Name Reviews Count Country Code    Experience Date  \\\n",
            "0         Margaret Perry       1review           US  November 09, 2023   \n",
            "1  Leticia Ortiz Quijano       1review           US  November 09, 2023   \n",
            "2            TANIS SMITH       1review           US  November 02, 2023   \n",
            "3   Disapointed Customer       1review           US  November 08, 2023   \n",
            "4           WALTER HARDY       1review           US   October 23, 2023   \n",
            "\n",
            "   Rating  Review Date                                  Review Title  \\\n",
            "0       4  6 hours ago                                   Mario in NC   \n",
            "1       5  9 hours ago           The Associate was extremely helpful   \n",
            "2       4  6 hours ago  20 days for identity verification is to long   \n",
            "3       1    A day ago        This company is a scam meant to leach…   \n",
            "4       5   4 days ago                      Great Customer Care Reps   \n",
            "\n",
            "                                         Review Text  \\\n",
            "0  Mario in N. Carolina was courteous, polite, si...   \n",
            "1  The Associate was extremely helpful. she did a...   \n",
            "2  The only issue I had was the time it took to v...   \n",
            "3  This company is a scam meant to leach off of p...   \n",
            "4  I was helped tremendously by such a nice custo...   \n",
            "\n",
            "                                Reply Date  \\\n",
            "0                                      NaN   \n",
            "1   Reply from Millennium Trust8 hours ago   \n",
            "2                                      NaN   \n",
            "3  Reply from Millennium Trust12 hours ago   \n",
            "4    Reply from Millennium Trust3 days ago   \n",
            "\n",
            "                                          Reply Text  \n",
            "0                                                NaN  \n",
            "1     We aim to please!  Thank you for the feedback!  \n",
            "2                                                NaN  \n",
            "3  Hi, thank you for taking the time to provide u...  \n",
            "4  We are so happy you had a good experience!  Th...  \n",
            "<class 'pandas.core.frame.DataFrame'>\n",
            "RangeIndex: 66486 entries, 0 to 66485\n",
            "Data columns (total 10 columns):\n",
            " #   Column           Non-Null Count  Dtype \n",
            "---  ------           --------------  ----- \n",
            " 0   Reviewer Name    66467 non-null  object\n",
            " 1   Reviews Count    66486 non-null  object\n",
            " 2   Country Code     66486 non-null  object\n",
            " 3   Experience Date  66486 non-null  object\n",
            " 4   Rating           66486 non-null  int64 \n",
            " 5   Review Date      66486 non-null  object\n",
            " 6   Review Title     66483 non-null  object\n",
            " 7   Review Text      53132 non-null  object\n",
            " 8   Reply Date       41673 non-null  object\n",
            " 9   Reply Text       41673 non-null  object\n",
            "dtypes: int64(1), object(9)\n",
            "memory usage: 5.1+ MB\n",
            "None       Reviewer Name Reviews Count Country Code    Experience Date  Rating  \\\n",
            "0            Audrey       1review           US  December 13, 2023       5   \n",
            "1  Pefrico Saldibar       1review           US  December 15, 2023       5   \n",
            "2           Beverly       1review           US  December 14, 2023       5   \n",
            "3         Alejandro       1review           US  December 14, 2023       5   \n",
            "4           Felecia      2reviews           US  December 12, 2023       2   \n",
            "\n",
            "    Review Date                              Review Title  \\\n",
            "0    2 days ago                    Experience was awesome   \n",
            "1  20 hours ago           What a wonderful branch this is   \n",
            "2  15 hours ago     My experience with Advanced America…A   \n",
            "3  16 hours ago                       First time customer   \n",
            "4    2 days ago  I went through 2 of the rudest Customer…   \n",
            "\n",
            "                                         Review Text  \\\n",
            "0  Experience was awesome. I expected a lot of pa...   \n",
            "1  What a wonderful branch this is, the ladies he...   \n",
            "2  My experience with Advanced America ,never cou...   \n",
            "3  First time customer and had great service. Wor...   \n",
            "4  I went through 2 of the rudest Customer servic...   \n",
            "\n",
            "                               Reply Date  \\\n",
            "0    Reply from Advance America2 days ago   \n",
            "1  Reply from Advance America20 hours ago   \n",
            "2  Reply from Advance America15 hours ago   \n",
            "3  Reply from Advance America15 hours ago   \n",
            "4  Reply from Advance America15 hours ago   \n",
            "\n",
            "                                          Reply Text  \n",
            "0  Thank you for your positive review. At Advance...  \n",
            "1  Thank you for your positive review. At Advance...  \n",
            "2  Thank you for your positive review. At Advance...  \n",
            "3  Thank you for your positive review. At Advance...  \n",
            "4  Advance America values its customers and we wi...  \n"
          ]
        }
      ]
    },
    {
      "cell_type": "markdown",
      "metadata": {
        "id": "Ls_1_Zrkxm25"
      },
      "source": [
        "### DATA PREPROCESSING"
      ]
    },
    {
      "cell_type": "code",
      "source": [
        "import pandas as pd\n",
        "import pycountry\n",
        "\n",
        "# Function for preprocessing\n",
        "def preprocessing(df, reply_text):\n",
        "    # Convert 'Reviews Count' to integers\n",
        "    df['Reviews Count'] = df['Reviews Count'].str.extract('(\\d+)').astype(int)\n",
        "\n",
        "    # Replace the specified text in 'Reply Date' column\n",
        "    df['Reply Date'] = df['Reply Date'].str.replace(reply_text, '').str.strip()\n",
        "\n",
        "    # Convert 'Experience Date', 'Review Date', and 'Reply Date' to datetime\n",
        "    date_columns = ['Experience Date', 'Review Date', 'Reply Date']\n",
        "    df[date_columns] = df[date_columns].apply(pd.to_datetime, errors='coerce')\n",
        "\n",
        "    # Extract 'Year' from 'Review Date' and create a new column\n",
        "    df['Year'] = df['Review Date'].dt.year\n",
        "\n",
        "    # Drop rows with NaN values in 'Experience Date', 'Review Date', or 'Reply Date'\n",
        "    df = df.dropna(subset=date_columns)\n",
        "\n",
        "    # Create a copy to avoid SettingWithCopyWarning\n",
        "    df = df.copy()\n",
        "\n",
        "    # Concatenate 'Review Title' and 'Review Text' into a new 'Reviews' column\n",
        "    df.loc[:, 'Reviews'] = df['Review Title'].astype(str) + ' ' + df['Review Text'].astype(str)\n",
        "\n",
        "    # Rename 'Reply Text' column to 'Replies'\n",
        "    df = df.rename(columns={'Reply Text': 'Replies', 'Country Code': 'Country'})\n",
        "\n",
        "    # Add a new column with country names\n",
        "    df['Countries'] = df['Country'].apply(lambda code: pycountry.countries.get(alpha_2=code).name if pycountry.countries.get(alpha_2=code) else None)\n",
        "\n",
        "    # Calculate response time between 'Experience Date' and 'Review Date' in days\n",
        "    df['Exp to Review'] = (df['Review Date'] - df['Experience Date']).dt.total_seconds() / 86400\n",
        "\n",
        "    # Calculate response time between 'Review Date' and 'Reply Date' in days\n",
        "    df['Review to Reply'] = (df['Reply Date'] - df['Review Date']).dt.total_seconds() / 86400\n",
        "\n",
        "    # Round the values to the nearest integer and convert to int\n",
        "    df[['Exp to Review', 'Review to Reply']] = df[['Exp to Review', 'Review to Reply']].round(0).astype(int)\n",
        "\n",
        "    # Drop the original 'Review Title' and 'Review Text' columns\n",
        "    df = df.drop(['Reviewer Name', 'Reviews Count', 'Review Title', 'Review Text','Country'], axis=1)\n",
        "\n",
        "    # Rearrange the columns\n",
        "    df = df[['Year', 'Experience Date', 'Review Date', 'Reply Date','Exp to Review',\n",
        "             'Review to Reply','Rating', 'Countries', 'Reviews', 'Replies']]\n",
        "\n",
        "    return df\n",
        "\n",
        "# Calculate response time for each DataFrame\n",
        "df1 = preprocessing(df1, 'Reply from Freedom Debt Relief')\n",
        "df2 = preprocessing(df2, 'Reply from Millennium Trust')\n",
        "df3 = preprocessing(df3, 'Reply from Advance America')\n",
        "\n",
        "# Print the updated DataFrame information\n",
        "pd.set_option('display.max_columns', None)\n",
        "\n",
        "print(df1.info())\n",
        "print(df2.info())\n",
        "print(df3.info())\n"
      ],
      "metadata": {
        "colab": {
          "base_uri": "https://localhost:8080/"
        },
        "id": "d78L1e1rXjdj",
        "outputId": "3b3c789e-5b85-4d15-a980-ec096623f0dd"
      },
      "execution_count": 15,
      "outputs": [
        {
          "output_type": "stream",
          "name": "stdout",
          "text": [
            "<class 'pandas.core.frame.DataFrame'>\n",
            "Int64Index: 36713 entries, 0 to 39077\n",
            "Data columns (total 10 columns):\n",
            " #   Column           Non-Null Count  Dtype         \n",
            "---  ------           --------------  -----         \n",
            " 0   Year             36713 non-null  float64       \n",
            " 1   Experience Date  36713 non-null  datetime64[ns]\n",
            " 2   Review Date      36713 non-null  datetime64[ns]\n",
            " 3   Reply Date       36713 non-null  datetime64[ns]\n",
            " 4   Exp to Review    36713 non-null  int64         \n",
            " 5   Review to Reply  36713 non-null  int64         \n",
            " 6   Rating           36713 non-null  int64         \n",
            " 7   Countries        36713 non-null  object        \n",
            " 8   Reviews          36713 non-null  object        \n",
            " 9   Replies          36713 non-null  object        \n",
            "dtypes: datetime64[ns](3), float64(1), int64(3), object(3)\n",
            "memory usage: 3.1+ MB\n",
            "None\n",
            "<class 'pandas.core.frame.DataFrame'>\n",
            "Int64Index: 29374 entries, 235 to 39327\n",
            "Data columns (total 10 columns):\n",
            " #   Column           Non-Null Count  Dtype         \n",
            "---  ------           --------------  -----         \n",
            " 0   Year             29374 non-null  float64       \n",
            " 1   Experience Date  29374 non-null  datetime64[ns]\n",
            " 2   Review Date      29374 non-null  datetime64[ns]\n",
            " 3   Reply Date       29374 non-null  datetime64[ns]\n",
            " 4   Exp to Review    29374 non-null  int64         \n",
            " 5   Review to Reply  29374 non-null  int64         \n",
            " 6   Rating           29374 non-null  int64         \n",
            " 7   Countries        29374 non-null  object        \n",
            " 8   Reviews          29374 non-null  object        \n",
            " 9   Replies          29374 non-null  object        \n",
            "dtypes: datetime64[ns](3), float64(1), int64(3), object(3)\n",
            "memory usage: 2.5+ MB\n",
            "None\n",
            "<class 'pandas.core.frame.DataFrame'>\n",
            "Int64Index: 40630 entries, 418 to 66478\n",
            "Data columns (total 10 columns):\n",
            " #   Column           Non-Null Count  Dtype         \n",
            "---  ------           --------------  -----         \n",
            " 0   Year             40630 non-null  float64       \n",
            " 1   Experience Date  40630 non-null  datetime64[ns]\n",
            " 2   Review Date      40630 non-null  datetime64[ns]\n",
            " 3   Reply Date       40630 non-null  datetime64[ns]\n",
            " 4   Exp to Review    40630 non-null  int64         \n",
            " 5   Review to Reply  40630 non-null  int64         \n",
            " 6   Rating           40630 non-null  int64         \n",
            " 7   Countries        40630 non-null  object        \n",
            " 8   Reviews          40630 non-null  object        \n",
            " 9   Replies          40630 non-null  object        \n",
            "dtypes: datetime64[ns](3), float64(1), int64(3), object(3)\n",
            "memory usage: 3.4+ MB\n",
            "None\n"
          ]
        }
      ]
    },
    {
      "cell_type": "markdown",
      "source": [
        "### DATA SAMPLING"
      ],
      "metadata": {
        "id": "mxF2wONzCGXY"
      }
    },
    {
      "cell_type": "code",
      "source": [
        "# Function for random sampling\n",
        "def perform_sampling(df):\n",
        "    years_to_keep = [2021, 2022, 2023]\n",
        "\n",
        "    # Filter data for the specified years\n",
        "    filtered_df = df[df['Review Date'].dt.year.isin(years_to_keep)]\n",
        "\n",
        "    # Count the occurrences of each rating for each year\n",
        "    yearly_rating_counts = filtered_df.groupby(['Year', 'Rating']).size().unstack(fill_value=0)\n",
        "\n",
        "    # Perform random sampling to get 2000 datapoints\n",
        "    sampled_df = pd.DataFrame()\n",
        "    for year in years_to_keep:\n",
        "        year_data = filtered_df[filtered_df['Review Date'].dt.year == year]\n",
        "        sampled_data = year_data.sample(n=2000, replace=True)  # Adjust the sampling size as needed\n",
        "        sampled_df = pd.concat([sampled_df, sampled_data])\n",
        "\n",
        "    return sampled_df\n",
        "\n",
        "# Apply sampling for each dataset\n",
        "sampled_df1 = perform_sampling(df1)\n",
        "sampled_df2 = perform_sampling(df2)\n",
        "sampled_df3 = perform_sampling(df3)\n",
        "\n",
        "# Ensure all sampled dataframes have the same number of datapoints (2000)\n",
        "sampled_df1 = sampled_df1.sample(n=2000, replace=True)\n",
        "sampled_df2 = sampled_df2.sample(n=2000, replace=True)\n",
        "sampled_df3 = sampled_df3.sample(n=2000, replace=True)\n",
        "\n",
        "print(sampled_df1.info())\n",
        "print(sampled_df2.info())\n",
        "print(sampled_df3.info())"
      ],
      "metadata": {
        "colab": {
          "base_uri": "https://localhost:8080/"
        },
        "id": "qHmvnRE2AcRD",
        "outputId": "56da88a2-ad38-4360-e483-ec26bd36c021"
      },
      "execution_count": 16,
      "outputs": [
        {
          "output_type": "stream",
          "name": "stdout",
          "text": [
            "<class 'pandas.core.frame.DataFrame'>\n",
            "Int64Index: 2000 entries, 5826 to 5143\n",
            "Data columns (total 10 columns):\n",
            " #   Column           Non-Null Count  Dtype         \n",
            "---  ------           --------------  -----         \n",
            " 0   Year             2000 non-null   float64       \n",
            " 1   Experience Date  2000 non-null   datetime64[ns]\n",
            " 2   Review Date      2000 non-null   datetime64[ns]\n",
            " 3   Reply Date       2000 non-null   datetime64[ns]\n",
            " 4   Exp to Review    2000 non-null   int64         \n",
            " 5   Review to Reply  2000 non-null   int64         \n",
            " 6   Rating           2000 non-null   int64         \n",
            " 7   Countries        2000 non-null   object        \n",
            " 8   Reviews          2000 non-null   object        \n",
            " 9   Replies          2000 non-null   object        \n",
            "dtypes: datetime64[ns](3), float64(1), int64(3), object(3)\n",
            "memory usage: 171.9+ KB\n",
            "None\n",
            "<class 'pandas.core.frame.DataFrame'>\n",
            "Int64Index: 2000 entries, 13472 to 6945\n",
            "Data columns (total 10 columns):\n",
            " #   Column           Non-Null Count  Dtype         \n",
            "---  ------           --------------  -----         \n",
            " 0   Year             2000 non-null   float64       \n",
            " 1   Experience Date  2000 non-null   datetime64[ns]\n",
            " 2   Review Date      2000 non-null   datetime64[ns]\n",
            " 3   Reply Date       2000 non-null   datetime64[ns]\n",
            " 4   Exp to Review    2000 non-null   int64         \n",
            " 5   Review to Reply  2000 non-null   int64         \n",
            " 6   Rating           2000 non-null   int64         \n",
            " 7   Countries        2000 non-null   object        \n",
            " 8   Reviews          2000 non-null   object        \n",
            " 9   Replies          2000 non-null   object        \n",
            "dtypes: datetime64[ns](3), float64(1), int64(3), object(3)\n",
            "memory usage: 171.9+ KB\n",
            "None\n",
            "<class 'pandas.core.frame.DataFrame'>\n",
            "Int64Index: 2000 entries, 19758 to 23081\n",
            "Data columns (total 10 columns):\n",
            " #   Column           Non-Null Count  Dtype         \n",
            "---  ------           --------------  -----         \n",
            " 0   Year             2000 non-null   float64       \n",
            " 1   Experience Date  2000 non-null   datetime64[ns]\n",
            " 2   Review Date      2000 non-null   datetime64[ns]\n",
            " 3   Reply Date       2000 non-null   datetime64[ns]\n",
            " 4   Exp to Review    2000 non-null   int64         \n",
            " 5   Review to Reply  2000 non-null   int64         \n",
            " 6   Rating           2000 non-null   int64         \n",
            " 7   Countries        2000 non-null   object        \n",
            " 8   Reviews          2000 non-null   object        \n",
            " 9   Replies          2000 non-null   object        \n",
            "dtypes: datetime64[ns](3), float64(1), int64(3), object(3)\n",
            "memory usage: 171.9+ KB\n",
            "None\n"
          ]
        }
      ]
    },
    {
      "cell_type": "markdown",
      "metadata": {
        "id": "tHsUctOGPmyE"
      },
      "source": [
        "## TIME SERIES  ANALYSIS OF RATINGS"
      ]
    },
    {
      "cell_type": "code",
      "source": [
        "# Create a figure with three subplots for vertical stacked bar charts\n",
        "fig, axes = plt.subplots(3, 1, figsize=(10, 10), sharey=True)\n",
        "\n",
        "# Set Seaborn color palette to \"Paired\"\n",
        "sns.set_palette(\"Paired\")\n",
        "\n",
        "# Lists to collect handles and labels for the legend\n",
        "handles = []\n",
        "labels = set()  # Using a set to avoid duplicates in labels\n",
        "\n",
        "# Plot vertical stacked bars for each rating for each DataFrame\n",
        "for i, df in enumerate([sampled_df1, sampled_df2, sampled_df3]):\n",
        "    yearly_rating_counts = df.groupby(['Year', 'Rating']).size().unstack(fill_value=0)\n",
        "\n",
        "    # Cast the years to integers\n",
        "    yearly_rating_counts.index = yearly_rating_counts.index.astype(int)\n",
        "\n",
        "    plot = yearly_rating_counts.plot(kind='bar', stacked=True, ax=axes[i], legend=False)\n",
        "\n",
        "    # Collect handles and labels for the legend\n",
        "    plot_handles, plot_labels = axes[i].get_legend_handles_labels()\n",
        "    handles.extend(plot_handles)\n",
        "\n",
        "    # Use set union to add unique labels to the set\n",
        "    labels |= set(plot_labels)\n",
        "\n",
        "    # Set labels and title for each subplot\n",
        "    axes[i].set_xlabel('')\n",
        "    axes[i].set_ylabel('Count')\n",
        "    axes[i].set_title(f'Yearly Ratings Distribution - df{i+1}')\n",
        "\n",
        "    # Remove decimals in the x-axis labels\n",
        "    axes[i].xaxis.set_major_locator(plt.MaxNLocator(integer=True))\n",
        "\n",
        "    # Rotate x-axis labels to be horizontal\n",
        "    plt.setp(axes[i].get_xticklabels(), rotation=0, ha=\"center\")\n",
        "\n",
        "# Sort labels in ascending order\n",
        "sorted_labels = sorted(labels, key=lambda x: int(x))\n",
        "\n",
        "# Create a combined legend for all plots horizontally with adjusted parameters\n",
        "legend = fig.legend(handles, sorted_labels, loc='lower center', bbox_to_anchor=(0.5, -0.05), ncol=5, borderaxespad=0.5, prop={'size': 16})\n",
        "\n",
        "# Set legend title font size\n",
        "legend.get_title().set_fontsize(14)\n",
        "\n",
        "# Adjust layout\n",
        "plt.tight_layout()\n",
        "\n",
        "# Show the vertical stacked bar charts with a single legend at the bottom\n",
        "plt.show()\n"
      ],
      "metadata": {
        "colab": {
          "base_uri": "https://localhost:8080/",
          "height": 1000
        },
        "id": "W6Y7IF6F9XdK",
        "outputId": "3e1c667e-c97d-4afc-c747-650dd9c14417"
      },
      "execution_count": 49,
      "outputs": [
        {
          "output_type": "display_data",
          "data": {
            "text/plain": [
              "<Figure size 1000x1000 with 3 Axes>"
            ],
            "image/png": "[encoded data removed]"
          },
          "metadata": {}
        }
      ]
    },
    {
      "cell_type": "code",
      "source": [
        "# Extract the year from the 'Review Date' column\n",
        "df['Year'] = df['Experience Date'].dt.year\n",
        "\n",
        "# Count the occurrences of each rating for each year\n",
        "yearly_rating_counts = df1.groupby(['Year', 'Rating']).size().unstack(fill_value=0)\n",
        "\n",
        "# Create a figure with separate subplots for each year\n",
        "fig, axes = plt.subplots(3, 4, figsize=(16, 12))\n",
        "\n",
        "# Flatten the axes array for easier iteration\n",
        "axes = axes.flatten()\n",
        "\n",
        "# Iterate over each year and create a pie chart\n",
        "for ax, (year, ratings) in zip(axes, yearly_rating_counts.iterrows()):\n",
        "    colors = plt.cm.Set2(np.arange(1, len(ratings) + 1))  # Change color palette to Set2\n",
        "\n",
        "    # Change the color of the \"5\" rating to green\n",
        "    colors = ['green' if rating == 5 else color for rating, color in zip(ratings.index, colors)]\n",
        "\n",
        "    explode = tuple(0.1 if i == ratings.idxmax() else 0 for i in range(1, len(ratings) + 1))\n",
        "\n",
        "    # Check if ratings are not all zeros\n",
        "    if not ratings.eq(0).all():\n",
        "        # Adjust autopct to show percentages as numbers\n",
        "        ax.pie(ratings, labels=None, autopct=lambda p: f'{p:.1f}', startangle=90, colors=colors, explode=explode, pctdistance=0.85, textprops={'fontsize': 10, 'weight': 'bold'})\n",
        "        ax.set_title(f'{year}', fontsize=14, weight='bold')\n",
        "        ax.axis('equal')  # Equal aspect ratio ensures that pie is drawn as a circle.\n",
        "    else:\n",
        "        ax.axis('off')  # Turn off axis for empty subplots\n",
        "\n",
        "# Create a legend at the lower right with a centered layout\n",
        "legend = fig.legend(ratings.index, title='Ratings', loc='lower right', bbox_to_anchor=(0.9, 0.1), fontsize=12, title_fontsize=12, edgecolor='black', ncol=len(ratings.index))\n",
        "legend.get_title().set_fontweight('bold')  # Set fontweight for legend title\n",
        "\n",
        "# Add a main title above the subplots\n",
        "plt.figtext(0.5, 0.96, 'Yearly Ratings Percentage Distribution', ha='center', va='center', fontsize=20, fontweight='bold', color='red')\n",
        "\n",
        "# Remove empty subplots from the layout\n",
        "fig.delaxes(axes[-1])\n",
        "fig.delaxes(axes[-2])\n",
        "\n",
        "# Adjust layout for better spacing\n",
        "plt.tight_layout(rect=[0, 0, 1, 0.92])  # Adjust the rect parameter to leave space for the main title\n",
        "\n",
        "# Show the pie charts\n",
        "plt.show()\n"
      ],
      "metadata": {
        "id": "Up2_Z9bd8zCN"
      },
      "execution_count": null,
      "outputs": []
    },
    {
      "cell_type": "markdown",
      "metadata": {
        "id": "Hu1d4NRpPmyI"
      },
      "source": [
        "## Aggregation and Grouping (yearly, quarterly, monthly):\n"
      ]
    },
    {
      "cell_type": "markdown",
      "source": [
        "# Yearly"
      ],
      "metadata": {
        "id": "viLqVvpT6d37"
      }
    },
    {
      "cell_type": "code",
      "source": [
        "import matplotlib.pyplot as plt\n",
        "import numpy as np\n",
        "\n",
        "# Downsample the data by averaging ratings by year\n",
        "yearly_ratings = df.resample('Y', on='Review Date')['Rating'].mean().dropna()\n",
        "\n",
        "# Create a time series plot of downsampled ratings\n",
        "plt.figure(figsize=(12, 6))\n",
        "\n",
        "# Plot the line\n",
        "plt.plot(yearly_ratings.index, yearly_ratings.values, marker='o', linestyle='-', color='b', label='Average Rating')\n",
        "\n",
        "# Fill the area under the line with light purple\n",
        "plt.fill_between(yearly_ratings.index, yearly_ratings.values, color='lavender')\n",
        "\n",
        "# Set the y-axis range to 4 to 5\n",
        "plt.ylim(4.35, 4.7)\n",
        "\n",
        "# Add labels and title\n",
        "plt.title('Yearly Average Ratings Over Time', fontsize=18, fontweight='bold', color='red')\n",
        "plt.xlabel('')\n",
        "plt.ylabel('Average Rating', fontsize=14, fontweight='bold', color='red')\n",
        "plt.grid(True)\n",
        "\n",
        "# Rotate x-axis labels by 90 degrees\n",
        "plt.xticks(rotation=90)\n",
        "\n",
        "# Make y-axis labels bold\n",
        "plt.yticks(fontweight='bold', color='blue')\n",
        "plt.xticks(fontweight='bold', fontsize=13, rotation=45, color='blue')\n",
        "\n",
        "# Annotate data values on the line plot\n",
        "for x, y in zip(yearly_ratings.index, yearly_ratings.values):\n",
        "    plt.text(x, y, f'{y:.2f}', ha='left', va='bottom', fontsize=14, fontweight='bold', color='green', rotation=30)\n",
        "\n",
        "# Show the plot\n",
        "plt.tight_layout()\n",
        "plt.show()\n",
        "\n",
        "# Convert the downsampled ratings to a DataFrame\n",
        "yearly_ratings_df = yearly_ratings.to_frame().reset_index()\n",
        "yearly_ratings_df.columns = ['Year', 'Average Rating']\n",
        "\n",
        "# Save the DataFrame to a CSV file\n",
        "yearly_ratings_df.to_csv('yearly_ratings.csv', index=False)\n"
      ],
      "metadata": {
        "id": "-hkLH7qwIERU"
      },
      "execution_count": null,
      "outputs": []
    },
    {
      "cell_type": "markdown",
      "source": [
        "# Quarterly"
      ],
      "metadata": {
        "id": "9eTQmJ3t6jsX"
      }
    },
    {
      "cell_type": "code",
      "execution_count": null,
      "metadata": {
        "tags": [],
        "id": "HTIdd8H-PmyI"
      },
      "outputs": [],
      "source": [
        "import matplotlib.pyplot as plt\n",
        "\n",
        "# Group data by quarter and calculate the mean rating for each quarter\n",
        "quarterly_mean_rating = df.groupby(df['Review Date'].dt.to_period('Q')).agg({'Rating': 'mean'})\n",
        "\n",
        "# Create a line plot for quarterly mean rating with enhanced styling\n",
        "plt.figure(figsize=(12, 6))\n",
        "\n",
        "# Plot the line\n",
        "plt.plot(\n",
        "    quarterly_mean_rating.index.strftime('%b %Y'),\n",
        "    quarterly_mean_rating['Rating'],\n",
        "    marker='o',\n",
        "    color='skyblue',\n",
        "    linewidth=2,\n",
        "    markersize=8,\n",
        ")\n",
        "\n",
        "# Fill the area below the line with light green color\n",
        "plt.fill_between(\n",
        "    quarterly_mean_rating.index.strftime('%b %Y'),\n",
        "    quarterly_mean_rating['Rating'],\n",
        "    color='lightgreen',  # Specify the fill color as light green\n",
        "    alpha=0.3,  # Adjust transparency of the fill\n",
        ")\n",
        "\n",
        "# Set the y-axis range to 4 to 5\n",
        "plt.ylim(4.25, 4.7)\n",
        "\n",
        "# Add labels and titles\n",
        "plt.title('Quarterly Mean Rating', fontsize=16, fontweight='bold', color='black')  # Default title color\n",
        "plt.xlabel('', fontsize=14, fontweight='bold')\n",
        "plt.ylabel('Mean Rating', fontsize=16, fontweight='bold')\n",
        "\n",
        "# Rotate x-axis labels for readability (rotate 45 degrees)\n",
        "plt.xticks(rotation=45, ha=\"right\", fontsize=12)\n",
        "\n",
        "# Annotate data values on the line plot and draw lines to x-axis\n",
        "for x, y in zip(quarterly_mean_rating.index.strftime('%b %Y'), quarterly_mean_rating['Rating']):\n",
        "    plt.annotate(\n",
        "        f'{y:.2f}',\n",
        "        (x, y),\n",
        "        textcoords='offset points',\n",
        "        xytext=(0, -15),  # Adjust the y-coordinate to move labels to the bottom\n",
        "        ha='right',  # Rotate 45 degrees\n",
        "        fontsize=9,\n",
        "        color='blue',\n",
        "        fontweight='bold',\n",
        "        rotation=45,  # Rotate the label\n",
        "    )\n",
        "    plt.vlines(x, 3.5, y, colors='gray', linestyles='dotted', lw=1)\n",
        "\n",
        "# Show the plot\n",
        "plt.tight_layout()\n",
        "\n",
        "# Set the title font properties\n",
        "title = plt.title('Quarterly Mean Rating', fontsize=20, fontweight='bold', color='red')  # Updated title color\n",
        "\n",
        "# Show the plot\n",
        "plt.show()\n"
      ]
    },
    {
      "cell_type": "markdown",
      "source": [
        "# Monthly"
      ],
      "metadata": {
        "id": "mKaNm4tn6oPs"
      }
    },
    {
      "cell_type": "code",
      "source": [
        "import matplotlib.pyplot as plt\n",
        "import matplotlib.dates as mdates\n",
        "import pandas as pd\n",
        "\n",
        "# Assuming you have a DataFrame named df with a 'Review Date' column and a 'Rating' column\n",
        "\n",
        "# Downsample the data by averaging ratings by month\n",
        "monthly_ratings = df.resample('M', on='Review Date')['Rating'].mean().dropna()\n",
        "\n",
        "# Create a time series plot of downsampled ratings\n",
        "plt.figure(figsize=(12, 6))\n",
        "plt.plot(monthly_ratings.index, monthly_ratings.values, marker='o', linestyle='-', color='b', label='Average Rating')\n",
        "plt.fill_between(monthly_ratings.index, monthly_ratings.values, color='lightgreen', alpha=0.3)  # Fill the area under the line with light green\n",
        "\n",
        "# Add vertical lines between x-axis and points\n",
        "for date, rating in zip(monthly_ratings.index, monthly_ratings.values):\n",
        "    plt.vlines(date, 4, rating, color='gray', linestyle='--', linewidth=0.8)\n",
        "\n",
        "plt.title('Monthly Average Ratings Over Time', fontsize=18, fontweight='bold', color='red')  # Updated title color\n",
        "plt.xlabel('')\n",
        "plt.ylabel('Average Rating', fontsize=14, fontweight='bold', color='red')\n",
        "plt.grid(True)\n",
        "\n",
        "# Set x-axis tick locator and formatter for years only\n",
        "years = mdates.YearLocator()\n",
        "years_fmt = mdates.DateFormatter('%Y')  # Display years as four-digit numbers\n",
        "\n",
        "plt.gca().xaxis.set_major_locator(years)\n",
        "plt.gca().xaxis.set_major_formatter(years_fmt)\n",
        "\n",
        "# Customize x-axis ticks and labels\n",
        "plt.xticks(fontsize=12, fontweight='bold', color='red', ha='center', rotation=45)\n",
        "\n",
        "# Customize y-axis ticks and labels\n",
        "plt.yticks(fontsize=12, fontweight='bold', color='red')\n",
        "\n",
        "# Set the y-axis range to 4 to 5\n",
        "plt.ylim(4, 5)\n",
        "\n",
        "# Show the plot\n",
        "plt.tight_layout()\n",
        "plt.show()\n",
        "\n",
        "# Convert the downsampled ratings to a DataFrame\n",
        "monthly_ratings_df = monthly_ratings.to_frame().reset_index()\n",
        "monthly_ratings_df.columns = ['Date', 'Average Rating']\n",
        "\n",
        "# Save the DataFrame to a CSV file\n",
        "monthly_ratings_df.to_csv('monthly_ratings.csv', index=False)\n"
      ],
      "metadata": {
        "id": "65K57OEQGh_F"
      },
      "execution_count": null,
      "outputs": []
    },
    {
      "cell_type": "markdown",
      "metadata": {
        "id": "Im0hPmqXPmyN"
      },
      "source": [
        "## Date-Related Calculations:\n",
        "\n",
        "\n"
      ]
    },
    {
      "cell_type": "markdown",
      "source": [
        "### a. Calculate Time Difference:\n",
        "\n",
        "\n",
        "Calculate the time difference between two date columns. For instance, you can calculate the response time by subtracting the review date from the reply date."
      ],
      "metadata": {
        "id": "WZK2CCuF614V"
      }
    },
    {
      "cell_type": "code",
      "execution_count": null,
      "metadata": {
        "tags": [],
        "id": "1vwrmccUPmyO"
      },
      "outputs": [],
      "source": [
        "df['Review Response'] = df['Review Date'] - df['Experience Date']\n",
        "\n",
        "df['Reply Response'] = df['Reply Date'] - df['Review Date']"
      ]
    },
    {
      "cell_type": "code",
      "execution_count": null,
      "metadata": {
        "tags": [],
        "id": "cJdLG7qwPmyO"
      },
      "outputs": [],
      "source": [
        "df.head()"
      ]
    },
    {
      "cell_type": "markdown",
      "metadata": {
        "id": "9K5GHao3PmyO"
      },
      "source": [
        "### b. Extract Date Components:\n",
        "\n",
        "Extract specific components from the date, such as year, month, day, or weekday."
      ]
    },
    {
      "cell_type": "code",
      "execution_count": null,
      "metadata": {
        "tags": [],
        "id": "yWxAewsZPmyO"
      },
      "outputs": [],
      "source": [
        "df['Year'] = df['Review Date'].dt.year\n",
        "df['Month'] = df['Review Date'].dt.month\n",
        "df['Day'] = df['Review Date'].dt.day\n",
        "df['Weekday'] = df['Review Date'].dt.day_name()"
      ]
    },
    {
      "cell_type": "markdown",
      "metadata": {
        "id": "m4eH7nOMPmyO"
      },
      "source": [
        "### Ratings Over Time (Monthly Average)"
      ]
    },
    {
      "cell_type": "code",
      "execution_count": null,
      "metadata": {
        "tags": [],
        "id": "pGt-Wz3oPmyO"
      },
      "outputs": [],
      "source": [
        "# Downsample the data by averaging ratings by month\n",
        "monthly_ratings = df.resample('M', on='Review Date')['Rating'].mean().dropna()\n",
        "\n",
        "# Create a time series plot of downsampled ratings\n",
        "plt.figure(figsize=(12, 6))\n",
        "plt.plot(monthly_ratings.index, monthly_ratings.values, marker='o', linestyle='-', color='b')\n",
        "plt.title('Monthly Average Ratings Over Time', fontsize=18, fontweight='bold', color='red')  # Updated title color\n",
        "plt.xlabel('Date', fontsize=14, fontweight='bold')\n",
        "plt.ylabel('Average Rating', fontsize=14, fontweight='bold')\n",
        "plt.grid(True)\n",
        "\n",
        "# Set x-axis tick locator and formatter for years only\n",
        "years = mdates.YearLocator()\n",
        "years_fmt = mdates.DateFormatter('%Y')  # Display years as four-digit numbers\n",
        "\n",
        "plt.gca().xaxis.set_major_locator(years)\n",
        "plt.gca().xaxis.set_major_formatter(years_fmt)\n",
        "\n",
        "# Show the plot\n",
        "plt.tight_layout()\n",
        "plt.show()\n",
        "\n",
        "# Convert the downsampled ratings to a DataFrame\n",
        "monthly_ratings_df = monthly_ratings.to_frame().reset_index()\n",
        "monthly_ratings_df.columns = ['Date', 'Average Rating']\n",
        "\n",
        "# Save the DataFrame to a CSV file\n",
        "monthly_ratings_df.to_csv('monthly_ratings.csv', index=False)\n",
        "\n",
        "# Display the DataFrame\n",
        "print(\"Downsampled Monthly Ratings as DataFrame:\")\n",
        "print(monthly_ratings_df)\n"
      ]
    },
    {
      "cell_type": "markdown",
      "metadata": {
        "id": "euEcMWGcPmyP"
      },
      "source": [
        "### Visualization for Mean Rating by Year and Month:\n",
        "\n",
        "a. Calculate summary statistics for different time periods, such as the mean rating for each year or month."
      ]
    },
    {
      "cell_type": "code",
      "execution_count": null,
      "metadata": {
        "tags": [],
        "id": "F7FTDmxgPmyP"
      },
      "outputs": [],
      "source": [
        "# Mean rating by year\n",
        "mean_rating_by_year = df.groupby(df['Review Date'].dt.year)['Rating'].mean()"
      ]
    },
    {
      "cell_type": "code",
      "execution_count": null,
      "metadata": {
        "tags": [],
        "id": "YT8b_LTgPmyP"
      },
      "outputs": [],
      "source": [
        "import matplotlib.pyplot as plt\n",
        "import pandas as pd\n",
        "\n",
        "# Assuming you have a DataFrame named df with a 'Review Date' column and a 'Rating' column\n",
        "\n",
        "# Calculate the mean rating by year\n",
        "mean_rating_by_year = df.groupby(df['Review Date'].dt.year)['Rating'].mean()\n",
        "\n",
        "# Calculate the mean rating by month\n",
        "mean_rating_by_month = df.groupby(df['Review Date'].dt.month)['Rating'].mean()\n",
        "\n",
        "# Create subplots for both graphs\n",
        "fig, (ax1, ax2) = plt.subplots(2, 1, figsize=(12, 10))\n",
        "\n",
        "# Plot the mean rating by year\n",
        "ax1.plot(mean_rating_by_year.index, mean_rating_by_year.values, marker='o', linestyle='-', color='b', linewidth=3)  # Increase linewidth\n",
        "ax1.fill_between(mean_rating_by_year.index, mean_rating_by_year.values, color='lightblue', alpha=0.3)\n",
        "ax1.set_title('Mean Rating by Year', fontsize=16, color='red', fontweight='bold')\n",
        "ax1.set_xlabel('')\n",
        "ax1.set_ylabel('Mean Rating', fontsize=12, fontweight='bold')\n",
        "ax1.grid(True)\n",
        "ax1.set_ylim(4.4, 4.66)  # Set y-axis limits\n",
        "\n",
        "# Set custom x-axis ticks and labels to display all years for the yearly plot\n",
        "custom_xticks_yearly = mean_rating_by_year.index\n",
        "ax1.set_xticks(custom_xticks_yearly)\n",
        "ax1.set_xticklabels(custom_xticks_yearly, rotation=45, ha='right', fontsize=10, fontweight='bold', color='red')  # Rotating year labels for better readability\n",
        "\n",
        "# Annotate data points in the yearly plot\n",
        "for x, y in zip(custom_xticks_yearly, mean_rating_by_year.values):\n",
        "    ax1.annotate(f'{y:.2f}', (x, y), textcoords=\"offset points\", xytext=(0, -15), ha='center', fontsize=13, fontweight='bold', color='green')  # Adjusted fontsize\n",
        "\n",
        "# Plot the mean rating by month\n",
        "ax2.plot(mean_rating_by_month.index, mean_rating_by_month.values, marker='o', linestyle='-', color='g', linewidth=3)  # Increase linewidth\n",
        "ax2.fill_between(mean_rating_by_month.index, mean_rating_by_month.values, color='lightgreen', alpha=0.3)\n",
        "ax2.set_title('Mean Rating by Month', fontsize=16, color='red', fontweight='bold')\n",
        "ax2.set_xlabel('')\n",
        "ax2.set_ylabel('Mean Rating', fontsize=12, fontweight='bold')\n",
        "ax2.grid(True)\n",
        "ax2.set_ylim(4.56, 4.65)  # Set y-axis limits\n",
        "\n",
        "# Set custom x-axis ticks and labels to display full month names for the monthly plot\n",
        "custom_xticks_monthly = list(range(1, 13))  # Months 1 to 12\n",
        "custom_xtick_labels_monthly = ['January', 'February', 'March', 'April', 'May', 'June', 'July', 'August', 'September', 'October', 'November', 'December']\n",
        "ax2.set_xticks(custom_xticks_monthly)\n",
        "ax2.set_xticklabels(custom_xtick_labels_monthly, rotation=45, ha='right', fontsize=13, fontweight='bold', color='red')  # Adjusted fontsize\n",
        "\n",
        "# Annotate data points in the monthly plot\n",
        "for x, y in zip(mean_rating_by_month.index, mean_rating_by_month.values):\n",
        "    ax2.annotate(f'{y:.2f}', (x, y), textcoords=\"offset points\", xytext=(0, -15), ha='center', fontsize=13, fontweight='bold', color='blue')  # Adjusted fontsize\n",
        "\n",
        "# Adjust spacing between subplots\n",
        "plt.tight_layout()\n",
        "\n",
        "# Show the plots\n",
        "plt.show()\n"
      ]
    },
    {
      "cell_type": "markdown",
      "metadata": {
        "id": "LR7Ud74DPmyP"
      },
      "source": [
        "The mean ratings based on two different time aggregations: by year and by month.\n",
        "\n",
        "Let's discuss and conclude the insights from this data:\n",
        "\n",
        "**Mean Rating by Year:**\n",
        "- The data shows the mean ratings for each year from 2014 to 2023.\n",
        "- In 2014, the mean rating was approximately 4.41, indicating a relatively positive sentiment in customer reviews.\n",
        "- The mean rating increased in 2015 to approximately 4.54, suggesting an improvement in customer satisfaction.\n",
        "- There was a slight decrease in the mean rating in 2016, dropping to around 4.42.\n",
        "- Subsequently, there was a consistent increase in mean ratings from 2017 to 2018, reaching a peak of about 4.66.\n",
        "- The mean rating remained relatively high in the following years, with fluctuations.\n",
        "- In 2023, the mean rating reached approximately 4.58.\n",
        "\n",
        "**Mean Rating by Month:**\n",
        "- This data provides the mean ratings for each month of the year.\n",
        "- January (1) and December (12) had the highest mean ratings, with approximately 4.60 and 4.65, respectively. These months might correspond to periods of higher customer satisfaction.\n",
        "- April (4) and October (10) had slightly lower mean ratings, around 4.58.\n",
        "- The months showed some fluctuations, but generally, the mean ratings remained above 4.57 throughout the year.\n",
        "\n",
        "**Conclusions:**\n",
        "- The mean rating by year provides insights into the overall customer satisfaction trends. While there were some fluctuations, it's evident that ratings improved from 2014 to 2018, remained relatively stable until 2022, and saw a slight increase in 2023.\n",
        "- The mean rating by month offers a more granular view of customer satisfaction throughout the year. January and December had the highest ratings, possibly due to seasonal factors or holidays.\n",
        "- The lowest ratings were observed in April and October, indicating periods when customers might be less satisfied.\n",
        "\n",
        "In both cases, this analysis provides valuable information about customer sentiment over time, which can be used for further investigation or decision-making, such as identifying areas for improvement or adjusting marketing strategies based on seasonal trends."
      ]
    },
    {
      "cell_type": "markdown",
      "metadata": {
        "id": "p9CHXvhUPmyP"
      },
      "source": [
        "### Time Series Plot of Ratings Over Time:"
      ]
    },
    {
      "cell_type": "markdown",
      "metadata": {
        "id": "gegYthFbPmyQ"
      },
      "source": [
        "\n",
        "\n",
        "If you want to visualize how ratings change over time, you can create a time series line chart."
      ]
    },
    {
      "cell_type": "markdown",
      "metadata": {
        "id": "EW7YFzB4PmyQ"
      },
      "source": [
        "This analyzed data includes customer ratings from March 2014 to October 2023, providing insights into customer sentiment and satisfaction trends. The objective is to inform data-driven decision-making and enhance our services to meet customer expectations.\n",
        "\n",
        "**Key Findings**\n",
        "\n",
        "1. **Consistent Positive Sentiment**: The data reveals a consistent positive sentiment among customers, with average ratings ranging between 4.2 and 4.7. This indicates a high level of overall satisfaction with our services.\n",
        "\n",
        "2. **Seasonal Variations**: Seasonal variations in ratings are observed, with some months showing higher average ratings and others lower. Identifying the factors contributing to these seasonal fluctuations can help optimize service delivery and resource allocation.\n",
        "\n",
        "3. **Annual Trends**: Over the years, annual trends are evident, with specific periods exhibiting higher or lower average ratings. Understanding these trends can inform strategic planning and resource allocation.\n",
        "\n",
        "4. **Data-Driven Decisions**: The dataset provides the opportunity to make data-driven decisions for service enhancement. Analyzing customer feedback and its correlation with ratings can guide improvements in specific areas of service delivery.\n",
        "\n",
        "5. **Competitive Advantage**: Maintaining consistently high ratings positions Freedom Debt Relief Company as a market leader. Leveraging customer satisfaction can attract new clients and bolster our competitive advantage.\n",
        "\n",
        "**Recommendations**\n",
        "\n",
        "- Further analysis is recommended to identify the specific drivers of seasonal and annual rating variations. This analysis should include examining customer feedback for insights.\n",
        "- Consider conducting a root cause analysis to identify any specific areas of improvement that can lead to enhanced customer satisfaction.\n",
        "\n",
        "Finally, Freedom Debt Relief Company enjoys a positive reputation with consistently high customer ratings. Leveraging this reputation for continuous improvement is essential for maintaining a competitive advantage. By delving deeper into the drivers of rating variations and aligning service delivery with customer expectations, we can further solidify our position in the market.\n"
      ]
    },
    {
      "cell_type": "code",
      "execution_count": null,
      "metadata": {
        "id": "1dx13dRxPmyQ"
      },
      "outputs": [],
      "source": [
        "# Calculate the mean rating by year\n",
        "mean_rating_by_year = df.groupby(df['Review Date'].dt.year)['Rating'].mean()\n",
        "\n",
        "# Print the results\n",
        "print(\"Mean Rating by Year:\")\n",
        "print(mean_rating_by_year)\n",
        "\n",
        "# Create a plot for the mean rating by year\n",
        "plt.figure(figsize=(12, 6))\n",
        "plt.plot(mean_rating_by_year.index, mean_rating_by_year.values, marker='o', linestyle='-', color='b')\n",
        "plt.title('Mean Rating by Year', fontsize=18, fontweight='bold', color='red')  # Title with 18 pt and bold\n",
        "plt.xlabel('Year', fontsize=12, fontweight='bold')  # xlabel with 12 pt and bold\n",
        "plt.ylabel('Mean Rating', fontsize=12, fontweight='bold')  # ylabel with 12 pt and bold\n",
        "plt.grid(True)\n",
        "\n",
        "# Set custom x-axis ticks and labels to display all years\n",
        "custom_xticks_yearly = mean_rating_by_year.index\n",
        "plt.xticks(custom_xticks_yearly, custom_xticks_yearly, rotation=45)  # Rotating year labels for better readability\n",
        "\n",
        "# Annotate data points in the yearly plot\n",
        "for x, y in zip(custom_xticks_yearly, mean_rating_by_year.values):\n",
        "    plt.annotate(f'{y:.2f}', (x, y), textcoords=\"offset points\", xytext=(0, 10), ha='center')\n",
        "\n",
        "# Show the plot\n",
        "plt.tight_layout()\n",
        "plt.show()\n"
      ]
    },
    {
      "cell_type": "code",
      "execution_count": null,
      "metadata": {
        "id": "Qg6OqVRyPmyQ"
      },
      "outputs": [],
      "source": [
        "# Calculate the mean rating by month\n",
        "mean_rating_by_month = df.groupby(df['Review Date'].dt.month)['Rating'].mean()\n",
        "\n",
        "# Print the results\n",
        "print(\"Mean Rating by Month:\")\n",
        "print(mean_rating_by_month)\n",
        "\n",
        "# Set seaborn style for enhanced aesthetics\n",
        "sns.set(style=\"whitegrid\")\n",
        "\n",
        "# Create a plot for the mean rating by month with enhanced styling\n",
        "plt.figure(figsize=(12, 6))\n",
        "plt.plot(mean_rating_by_month.index, mean_rating_by_month.values, marker='o', linestyle='-', color='g', linewidth=2)\n",
        "\n",
        "# Title with 18 pt and bold\n",
        "plt.title('Mean Rating by Month', fontsize=18, fontweight='bold', color='red')\n",
        "\n",
        "# xlabel with 12 pt and bold\n",
        "plt.xlabel('Month', fontsize=12, fontweight='bold')\n",
        "\n",
        "# ylabel with 12 pt and bold\n",
        "plt.ylabel('Mean Rating', fontsize=12, fontweight='bold')\n",
        "\n",
        "# Set custom x-axis ticks and labels to display all 12 months\n",
        "custom_xticks_monthly = list(range(1, 13))  # Months 1 to 12\n",
        "custom_xtick_labels_monthly = ['Jan', 'Feb', 'Mar', 'Apr', 'May', 'Jun', 'Jul', 'Aug', 'Sep', 'Oct', 'Nov', 'Dec']\n",
        "plt.xticks(custom_xticks_monthly, custom_xtick_labels_monthly)  # Custom month labels\n",
        "\n",
        "# Annotate data points in the monthly plot\n",
        "for x, y in zip(mean_rating_by_month.index, mean_rating_by_month.values):\n",
        "    plt.text(x, y, f'{y:.2f}', ha='center', va='bottom', fontsize=10, color='black')\n",
        "\n",
        "# Show the plot\n",
        "plt.tight_layout()\n",
        "plt.show()\n"
      ]
    },
    {
      "cell_type": "markdown",
      "metadata": {
        "id": "dxQOoqgFPmyR"
      },
      "source": [
        "### Histogram of Ratings:"
      ]
    },
    {
      "cell_type": "markdown",
      "metadata": {
        "id": "Ol6B1UDuPmyR"
      },
      "source": [
        "\n",
        "\n",
        "A histogram will show the distribution of ratings. You can see how many ratings fall into each category"
      ]
    },
    {
      "cell_type": "code",
      "execution_count": null,
      "metadata": {
        "tags": [],
        "id": "bmOgtUvtPmyR"
      },
      "outputs": [],
      "source": [
        "# Set a Seaborn style for better aesthetics\n",
        "sns.set(style=\"whitegrid\")\n",
        "\n",
        "# Create a bar plot of ratings\n",
        "plt.figure(figsize=(8, 6))\n",
        "rating_counts = df['Rating'].value_counts().sort_index()\n",
        "ax = plt.bar(rating_counts.index, rating_counts, color='skyblue', edgecolor='black')\n",
        "\n",
        "# Set custom bar labels at the center of each bar\n",
        "for bar in ax:\n",
        "    bar_x = bar.get_x() + bar.get_width() / 2\n",
        "    bar_height = bar.get_height()\n",
        "    plt.text(bar_x, bar_height, str(int(bar_height)), ha='center', va='bottom', fontsize=10, fontweight='bold')\n",
        "\n",
        "# Add title, xlabel, and ylabel with specified font sizes and styles\n",
        "plt.title('Distribution of Ratings', fontsize=18, fontweight='bold', color='red')\n",
        "plt.xlabel('Rating', fontsize=14, fontweight='bold')\n",
        "plt.ylabel('Count', fontsize=14, fontweight='bold')\n",
        "\n",
        "# Show the plot\n",
        "plt.tight_layout()\n",
        "plt.show()\n",
        "\n",
        "# Print information about the distribution of ratings\n",
        "print(\"Distribution of Ratings:\")\n",
        "print(rating_counts)\n"
      ]
    },
    {
      "cell_type": "markdown",
      "metadata": {
        "id": "VrjxjrEsPmyR"
      },
      "source": [
        "The distribution of ratings, as provided in the histogram results, offers insights into how customers have rated a product or service.\n",
        "\n",
        "Here is a discussion and conclusion based on the given distribution:\n",
        "\n",
        "**Distribution of Ratings:**\n",
        "- The data is divided into five rating categories: 1, 2, 3, 4, and 5.\n",
        "- Each category represents the number of reviews with that particular rating.\n",
        "- The highest number of reviews falls into the 5-star category, with a count of 30,639.\n",
        "- The 4-star rating is the second most common, with 4,758 reviews.\n",
        "- The 3-star rating has a count of 1,622.\n",
        "- The 2-star rating is the least common among positive ratings, with only 694 reviews.\n",
        "- The lowest rating, 1 star, has a count of 1,365.\n",
        "\n",
        "**Discussion:**\n",
        "- The data clearly shows that the majority of customers have given positive ratings, with 5-star and 4-star ratings being the most prevalent. This indicates that a substantial portion of customers are satisfied with the product or service, as these ratings are above the median score (3).\n",
        "- The distribution is right-skewed, meaning there are far more positive reviews than negative ones. This skew suggests that the product or service generally meets customer expectations or even exceeds them.\n",
        "- The relatively low counts in the 1-star and 2-star categories suggest that only a minority of customers expressed strong dissatisfaction.\n",
        "- The 3-star category, while not as common as 4-star and 5-star ratings, still has a notable number of reviews, indicating a moderate level of satisfaction.\n",
        "\n",
        "**Conclusion:**\n",
        "The distribution of ratings reflects a generally positive sentiment among customers who have left reviews. The bulk of reviews fall into the higher rating categories, suggesting that the product or service is well-received. However, the existence of lower ratings (1 to 3 stars) indicates that there is room for improvement or that a subset of customers had less positive experiences.\n",
        "\n",
        "To draw more specific conclusions or make further decisions based on this data, it may be helpful to conduct sentiment analysis on the reviews themselves or to analyze other factors, such as the time of the reviews or the topics mentioned in the reviews. This additional context can provide a deeper understanding of customer feedback."
      ]
    },
    {
      "cell_type": "markdown",
      "source": [
        "### TEXT PREPROCESSING"
      ],
      "metadata": {
        "id": "mdK6T1qMledz"
      }
    },
    {
      "cell_type": "markdown",
      "metadata": {
        "id": "NAFEaX2MPmyR"
      },
      "source": [
        "#### Concatenate Review Title and Review Text Columns"
      ]
    },
    {
      "cell_type": "code",
      "execution_count": null,
      "metadata": {
        "id": "M9nwd_KkPmyR"
      },
      "outputs": [],
      "source": [
        "columns_to_concat = ['Review Title', 'Review Text']\n",
        "\n",
        "# Concatenate the selected columns into a new column 'Concatenated_Text'\n",
        "df['Concatenated_Text'] = df[columns_to_concat].apply(lambda x: ' '.join(x.dropna().astype(str)), axis=1)"
      ]
    },
    {
      "cell_type": "markdown",
      "metadata": {
        "id": "2oCE2RZtPmyS"
      },
      "source": [
        "#### Text Preprocessing\n",
        "\n",
        "Before performing NLP tasks, it's important to preprocess the text data, which typically involves removing stopwords, punctuation, and converting text to lowercase."
      ]
    },
    {
      "cell_type": "code",
      "execution_count": null,
      "metadata": {
        "id": "5IdeUU1NPmyS"
      },
      "outputs": [],
      "source": [
        "def preprocess_text(text):\n",
        "    if isinstance(text, str):  # Check if the value is a string\n",
        "        # Remove emojis from the text and store them separately\n",
        "        emojis = [c for c in text if c in emoji.UNICODE_EMOJI]\n",
        "\n",
        "        # Tokenize the text\n",
        "        words = word_tokenize(text.lower())\n",
        "\n",
        "        # Remove stopwords and punctuation\n",
        "        words = [word for word in words if word.isalnum() and word not in stopwords.words('english')]\n",
        "\n",
        "        # Lemmatize words\n",
        "        lemmatizer = WordNetLemmatizer()\n",
        "        words = [lemmatizer.lemmatize(word) for word in words]\n",
        "\n",
        "        # Combine words and emojis back into a preprocessed text\n",
        "        preprocessed_text = ' '.join(words) + ' '.join(emojis)\n",
        "        return preprocessed_text\n",
        "    else:\n",
        "        return ''  # Return an empty string for non-text values (NaN)"
      ]
    },
    {
      "cell_type": "code",
      "execution_count": null,
      "metadata": {
        "id": "Grb7ifl5PmyS"
      },
      "outputs": [],
      "source": [
        "def preprocess_text(text):\n",
        "    if isinstance(text, str):  # Check if the value is a string\n",
        "        # Remove emojis from the text\n",
        "        text = re.sub(r'[\\U0001F600-\\U0001F64F\\U0001F300-\\U0001F5FF\\U0001F680-\\U0001F6FF\\U0001F700-\\U0001F77F\\U0001F780-\\U0001F7FF\\U0001F800-\\U0001F8FF\\U0001F900-\\U0001F9FF\\U0001FA00-\\U0001FA6F\\U0001FA70-\\U0001FAFF\\U0001FB00-\\U0001FBFF\\U0001FC00-\\U0001FCFF\\U0001FD00-\\U0001FDFF\\U0001FE00-\\U0001FEFF\\U0001FF00-\\U0001FFFF]+', '', text)\n",
        "\n",
        "        # Tokenize the text\n",
        "        words = word_tokenize(text.lower())\n",
        "\n",
        "        # Remove stopwords and punctuation\n",
        "        words = [word for word in words if word.isalnum() and word not in stopwords.words('english')]\n",
        "\n",
        "        # Lemmatize words\n",
        "        lemmatizer = WordNetLemmatizer()\n",
        "        words = [lemmatizer.lemmatize(word) for word in words]\n",
        "\n",
        "        return ' '.join(words)\n",
        "    else:\n",
        "        return ''  # Return an empty string for non-text values (NaN)"
      ]
    },
    {
      "cell_type": "code",
      "execution_count": null,
      "metadata": {
        "id": "igjlhqklPmyS"
      },
      "outputs": [],
      "source": [
        "df['Cleaned_Concatenated_Text'] = df['Concatenated_Text'].apply(preprocess_text)"
      ]
    },
    {
      "cell_type": "code",
      "source": [
        "df.head()"
      ],
      "metadata": {
        "id": "9CIE5YV7pKHZ"
      },
      "execution_count": null,
      "outputs": []
    },
    {
      "cell_type": "code",
      "source": [
        "df.info()"
      ],
      "metadata": {
        "id": "xk8CYG-QpOrW"
      },
      "execution_count": null,
      "outputs": []
    },
    {
      "cell_type": "code",
      "source": [
        "# Assuming df is your DataFrame\n",
        "df.to_csv('Freedom_Debt_Relief2.csv', index=False)"
      ],
      "metadata": {
        "id": "0fyTiFZ_l9hL"
      },
      "execution_count": null,
      "outputs": []
    }
  ],
  "metadata": {
    "colab": {
      "provenance": [],
      "include_colab_link": true
    },
    "kernelspec": {
      "display_name": "Python 3",
      "name": "python3"
    },
    "language_info": {
      "codemirror_mode": {
        "name": "ipython",
        "version": 3
      },
      "file_extension": ".py",
      "mimetype": "text/x-python",
      "name": "python",
      "nbconvert_exporter": "python",
      "pygments_lexer": "ipython3",
      "version": "3.11.0"
    }
  },
  "nbformat": 4,
  "nbformat_minor": 0
}