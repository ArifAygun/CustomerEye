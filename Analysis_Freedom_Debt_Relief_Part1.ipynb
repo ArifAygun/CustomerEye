{
  "cells": [
    {
      "cell_type": "markdown",
      "metadata": {
        "id": "view-in-github",
        "colab_type": "text"
      },
      "source": [
        "<a href=\"https://colab.research.google.com/github/ArifAygun/CustomerEye/blob/main/Analysis_Freedom_Debt_Relief_Part1.ipynb\" target=\"_parent\"><img src=\"https://colab.research.google.com/assets/colab-badge.svg\" alt=\"Open In Colab\"/></a>"
      ]
    },
    {
      "cell_type": "markdown",
      "metadata": {
        "id": "cATpMArqxccp"
      },
      "source": [
        "#### IMPORT LIBRARIES AND DATASET"
      ]
    },
    {
      "cell_type": "code",
      "source": [
        "!pip install pycountry"
      ],
      "metadata": {
        "colab": {
          "base_uri": "https://localhost:8080/"
        },
        "id": "qwfKsV5ewLav",
        "outputId": "0b8e440e-7ace-4cfc-cf00-39a7f5decda1"
      },
      "execution_count": 86,
      "outputs": [
        {
          "output_type": "stream",
          "name": "stdout",
          "text": [
            "Requirement already satisfied: pycountry in /usr/local/lib/python3.10/dist-packages (23.12.7)\n"
          ]
        }
      ]
    },
    {
      "cell_type": "code",
      "execution_count": 87,
      "metadata": {
        "id": "PHHa63S7NpXC",
        "tags": [],
        "colab": {
          "base_uri": "https://localhost:8080/"
        },
        "outputId": "1196122a-366d-472f-9750-76fefcf0c7f1"
      },
      "outputs": [
        {
          "output_type": "stream",
          "name": "stderr",
          "text": [
            "[nltk_data] Downloading package punkt to /root/nltk_data...\n",
            "[nltk_data]   Package punkt is already up-to-date!\n",
            "[nltk_data] Downloading package stopwords to /root/nltk_data...\n",
            "[nltk_data]   Package stopwords is already up-to-date!\n",
            "[nltk_data] Downloading package wordnet to /root/nltk_data...\n",
            "[nltk_data]   Package wordnet is already up-to-date!\n"
          ]
        },
        {
          "output_type": "execute_result",
          "data": {
            "text/plain": [
              "True"
            ]
          },
          "metadata": {},
          "execution_count": 87
        }
      ],
      "source": [
        "import re\n",
        "import pandas as pd\n",
        "import numpy as np\n",
        "import seaborn as sns\n",
        "import matplotlib.pyplot as plt\n",
        "import matplotlib.font_manager as fm\n",
        "import matplotlib.dates as mdates\n",
        "import pycountry\n",
        "\n",
        "import nltk\n",
        "from nltk.tokenize import word_tokenize\n",
        "from nltk.corpus import stopwords\n",
        "from nltk.stem import WordNetLemmatizer\n",
        "nltk.download('punkt')\n",
        "nltk.download('stopwords')\n",
        "nltk.download('wordnet')"
      ]
    },
    {
      "cell_type": "code",
      "source": [
        "from google.colab import drive\n",
        "\n",
        "drive.mount('/content/drive/')\n",
        "%cd /content/drive/My Drive/Freedom Debt Relief/\n",
        "\n",
        "df= pd.read_csv('Freedom_Debt_Relief.csv')"
      ],
      "metadata": {
        "id": "GvtJHxqgQB3b",
        "colab": {
          "base_uri": "https://localhost:8080/"
        },
        "outputId": "9b787dad-738b-4278-ab0e-8f0fe5865e60"
      },
      "execution_count": 88,
      "outputs": [
        {
          "output_type": "stream",
          "name": "stdout",
          "text": [
            "Drive already mounted at /content/drive/; to attempt to forcibly remount, call drive.mount(\"/content/drive/\", force_remount=True).\n",
            "/content/drive/My Drive/Freedom Debt Relief\n"
          ]
        }
      ]
    },
    {
      "cell_type": "code",
      "execution_count": 89,
      "metadata": {
        "id": "VUIt4P3zN6XR",
        "tags": [],
        "colab": {
          "base_uri": "https://localhost:8080/",
          "height": 363
        },
        "outputId": "ce02790a-aaed-49f4-dfbc-7ddb98a6d904"
      },
      "outputs": [
        {
          "output_type": "execute_result",
          "data": {
            "text/plain": [
              "                                                                 0  \\\n",
              "Reviewer Name                                       Andrea Sciotti   \n",
              "Reviews Count                                             2reviews   \n",
              "Country Code                                                    US   \n",
              "Experience Date                                  December 04, 2019   \n",
              "Rating                                                           5   \n",
              "Review Date                                            Dec 4, 2019   \n",
              "Review Title                            Working on a better future   \n",
              "Review Text                                                    NaN   \n",
              "Reply Date               Reply from Freedom Debt ReliefDec 4, 2019   \n",
              "Reply Text       Hello, Andrea, thank you for your review! We w...   \n",
              "\n",
              "                                                                 1  \\\n",
              "Reviewer Name                                         Wendy Sicard   \n",
              "Reviews Count                                              1review   \n",
              "Country Code                                                    US   \n",
              "Experience Date                                  December 04, 2019   \n",
              "Rating                                                           5   \n",
              "Review Date                                            Dec 4, 2019   \n",
              "Review Title                                      Was very helpful   \n",
              "Review Text                                                    NaN   \n",
              "Reply Date               Reply from Freedom Debt ReliefDec 4, 2019   \n",
              "Reply Text       Hello, Wendy, thank you for your review! We wo...   \n",
              "\n",
              "                                                                 2  \\\n",
              "Reviewer Name                                          Freida Towe   \n",
              "Reviews Count                                              1review   \n",
              "Country Code                                                    US   \n",
              "Experience Date                                  December 04, 2019   \n",
              "Rating                                                           5   \n",
              "Review Date                                            Dec 4, 2019   \n",
              "Review Title                                  Very polite and kind   \n",
              "Review Text      Very polite and kind. Did what I asked immedia...   \n",
              "Reply Date               Reply from Freedom Debt ReliefDec 4, 2019   \n",
              "Reply Text       Thank you very much, Freida! We truly care abo...   \n",
              "\n",
              "                                                                 3  \\\n",
              "Reviewer Name                                        Jabrea Herron   \n",
              "Reviews Count                                              1review   \n",
              "Country Code                                                    US   \n",
              "Experience Date                                  December 04, 2019   \n",
              "Rating                                                           5   \n",
              "Review Date                                            Dec 4, 2019   \n",
              "Review Title                                Great customer service   \n",
              "Review Text      There wasn't a long wait time . The representa...   \n",
              "Reply Date               Reply from Freedom Debt ReliefDec 5, 2019   \n",
              "Reply Text       Jabrea, We are so happy to hear that you are h...   \n",
              "\n",
              "                                                                 4  \n",
              "Reviewer Name                                         William Lutz  \n",
              "Reviews Count                                             2reviews  \n",
              "Country Code                                                    US  \n",
              "Experience Date                                  December 04, 2019  \n",
              "Rating                                                           5  \n",
              "Review Date                                            Dec 4, 2019  \n",
              "Review Title                       Needed an answer to a question…  \n",
              "Review Text      Needed an answer to a question concerning a pa...  \n",
              "Reply Date               Reply from Freedom Debt ReliefDec 4, 2019  \n",
              "Reply Text       Hello William, thank you for sharing your expe...  "
            ],
            "text/html": [
              "\n",
              "  <div id=\"df-473aa3e6-6964-4ecb-85a5-f06c44c03af5\" class=\"colab-df-container\">\n",
              "    <div>\n",
              "<style scoped>\n",
              "    .dataframe tbody tr th:only-of-type {\n",
              "        vertical-align: middle;\n",
              "    }\n",
              "\n",
              "    .dataframe tbody tr th {\n",
              "        vertical-align: top;\n",
              "    }\n",
              "\n",
              "    .dataframe thead th {\n",
              "        text-align: right;\n",
              "    }\n",
              "</style>\n",
              "<table border=\"1\" class=\"dataframe\">\n",
              "  <thead>\n",
              "    <tr style=\"text-align: right;\">\n",
              "      <th></th>\n",
              "      <th>0</th>\n",
              "      <th>1</th>\n",
              "      <th>2</th>\n",
              "      <th>3</th>\n",
              "      <th>4</th>\n",
              "    </tr>\n",
              "  </thead>\n",
              "  <tbody>\n",
              "    <tr>\n",
              "      <th>Reviewer Name</th>\n",
              "      <td>Andrea Sciotti</td>\n",
              "      <td>Wendy Sicard</td>\n",
              "      <td>Freida Towe</td>\n",
              "      <td>Jabrea Herron</td>\n",
              "      <td>William Lutz</td>\n",
              "    </tr>\n",
              "    <tr>\n",
              "      <th>Reviews Count</th>\n",
              "      <td>2reviews</td>\n",
              "      <td>1review</td>\n",
              "      <td>1review</td>\n",
              "      <td>1review</td>\n",
              "      <td>2reviews</td>\n",
              "    </tr>\n",
              "    <tr>\n",
              "      <th>Country Code</th>\n",
              "      <td>US</td>\n",
              "      <td>US</td>\n",
              "      <td>US</td>\n",
              "      <td>US</td>\n",
              "      <td>US</td>\n",
              "    </tr>\n",
              "    <tr>\n",
              "      <th>Experience Date</th>\n",
              "      <td>December 04, 2019</td>\n",
              "      <td>December 04, 2019</td>\n",
              "      <td>December 04, 2019</td>\n",
              "      <td>December 04, 2019</td>\n",
              "      <td>December 04, 2019</td>\n",
              "    </tr>\n",
              "    <tr>\n",
              "      <th>Rating</th>\n",
              "      <td>5</td>\n",
              "      <td>5</td>\n",
              "      <td>5</td>\n",
              "      <td>5</td>\n",
              "      <td>5</td>\n",
              "    </tr>\n",
              "    <tr>\n",
              "      <th>Review Date</th>\n",
              "      <td>Dec 4, 2019</td>\n",
              "      <td>Dec 4, 2019</td>\n",
              "      <td>Dec 4, 2019</td>\n",
              "      <td>Dec 4, 2019</td>\n",
              "      <td>Dec 4, 2019</td>\n",
              "    </tr>\n",
              "    <tr>\n",
              "      <th>Review Title</th>\n",
              "      <td>Working on a better future</td>\n",
              "      <td>Was very helpful</td>\n",
              "      <td>Very polite and kind</td>\n",
              "      <td>Great customer service</td>\n",
              "      <td>Needed an answer to a question…</td>\n",
              "    </tr>\n",
              "    <tr>\n",
              "      <th>Review Text</th>\n",
              "      <td>NaN</td>\n",
              "      <td>NaN</td>\n",
              "      <td>Very polite and kind. Did what I asked immedia...</td>\n",
              "      <td>There wasn't a long wait time . The representa...</td>\n",
              "      <td>Needed an answer to a question concerning a pa...</td>\n",
              "    </tr>\n",
              "    <tr>\n",
              "      <th>Reply Date</th>\n",
              "      <td>Reply from Freedom Debt ReliefDec 4, 2019</td>\n",
              "      <td>Reply from Freedom Debt ReliefDec 4, 2019</td>\n",
              "      <td>Reply from Freedom Debt ReliefDec 4, 2019</td>\n",
              "      <td>Reply from Freedom Debt ReliefDec 5, 2019</td>\n",
              "      <td>Reply from Freedom Debt ReliefDec 4, 2019</td>\n",
              "    </tr>\n",
              "    <tr>\n",
              "      <th>Reply Text</th>\n",
              "      <td>Hello, Andrea, thank you for your review! We w...</td>\n",
              "      <td>Hello, Wendy, thank you for your review! We wo...</td>\n",
              "      <td>Thank you very much, Freida! We truly care abo...</td>\n",
              "      <td>Jabrea, We are so happy to hear that you are h...</td>\n",
              "      <td>Hello William, thank you for sharing your expe...</td>\n",
              "    </tr>\n",
              "  </tbody>\n",
              "</table>\n",
              "</div>\n",
              "    <div class=\"colab-df-buttons\">\n",
              "\n",
              "  <div class=\"colab-df-container\">\n",
              "    <button class=\"colab-df-convert\" onclick=\"convertToInteractive('df-473aa3e6-6964-4ecb-85a5-f06c44c03af5')\"\n",
              "            title=\"Convert this dataframe to an interactive table.\"\n",
              "            style=\"display:none;\">\n",
              "\n",
              "  <svg xmlns=\"http://www.w3.org/2000/svg\" height=\"24px\" viewBox=\"0 -960 960 960\">\n",
              "    <path d=\"M120-120v-720h720v720H120Zm60-500h600v-160H180v160Zm220 220h160v-160H400v160Zm0 220h160v-160H400v160ZM180-400h160v-160H180v160Zm440 0h160v-160H620v160ZM180-180h160v-160H180v160Zm440 0h160v-160H620v160Z\"/>\n",
              "  </svg>\n",
              "    </button>\n",
              "\n",
              "  <style>\n",
              "    .colab-df-container {\n",
              "      display:flex;\n",
              "      gap: 12px;\n",
              "    }\n",
              "\n",
              "    .colab-df-convert {\n",
              "      background-color: #E8F0FE;\n",
              "      border: none;\n",
              "      border-radius: 50%;\n",
              "      cursor: pointer;\n",
              "      display: none;\n",
              "      fill: #1967D2;\n",
              "      height: 32px;\n",
              "      padding: 0 0 0 0;\n",
              "      width: 32px;\n",
              "    }\n",
              "\n",
              "    .colab-df-convert:hover {\n",
              "      background-color: #E2EBFA;\n",
              "      box-shadow: 0px 1px 2px rgba(60, 64, 67, 0.3), 0px 1px 3px 1px rgba(60, 64, 67, 0.15);\n",
              "      fill: #174EA6;\n",
              "    }\n",
              "\n",
              "    .colab-df-buttons div {\n",
              "      margin-bottom: 4px;\n",
              "    }\n",
              "\n",
              "    [theme=dark] .colab-df-convert {\n",
              "      background-color: #3B4455;\n",
              "      fill: #D2E3FC;\n",
              "    }\n",
              "\n",
              "    [theme=dark] .colab-df-convert:hover {\n",
              "      background-color: #434B5C;\n",
              "      box-shadow: 0px 1px 3px 1px rgba(0, 0, 0, 0.15);\n",
              "      filter: drop-shadow(0px 1px 2px rgba(0, 0, 0, 0.3));\n",
              "      fill: #FFFFFF;\n",
              "    }\n",
              "  </style>\n",
              "\n",
              "    <script>\n",
              "      const buttonEl =\n",
              "        document.querySelector('#df-473aa3e6-6964-4ecb-85a5-f06c44c03af5 button.colab-df-convert');\n",
              "      buttonEl.style.display =\n",
              "        google.colab.kernel.accessAllowed ? 'block' : 'none';\n",
              "\n",
              "      async function convertToInteractive(key) {\n",
              "        const element = document.querySelector('#df-473aa3e6-6964-4ecb-85a5-f06c44c03af5');\n",
              "        const dataTable =\n",
              "          await google.colab.kernel.invokeFunction('convertToInteractive',\n",
              "                                                    [key], {});\n",
              "        if (!dataTable) return;\n",
              "\n",
              "        const docLinkHtml = 'Like what you see? Visit the ' +\n",
              "          '<a target=\"_blank\" href=https://colab.research.google.com/notebooks/data_table.ipynb>data table notebook</a>'\n",
              "          + ' to learn more about interactive tables.';\n",
              "        element.innerHTML = '';\n",
              "        dataTable['output_type'] = 'display_data';\n",
              "        await google.colab.output.renderOutput(dataTable, element);\n",
              "        const docLink = document.createElement('div');\n",
              "        docLink.innerHTML = docLinkHtml;\n",
              "        element.appendChild(docLink);\n",
              "      }\n",
              "    </script>\n",
              "  </div>\n",
              "\n",
              "\n",
              "<div id=\"df-78fea698-5ef7-40eb-ac03-6014ae347b7d\">\n",
              "  <button class=\"colab-df-quickchart\" onclick=\"quickchart('df-78fea698-5ef7-40eb-ac03-6014ae347b7d')\"\n",
              "            title=\"Suggest charts\"\n",
              "            style=\"display:none;\">\n",
              "\n",
              "<svg xmlns=\"http://www.w3.org/2000/svg\" height=\"24px\"viewBox=\"0 0 24 24\"\n",
              "     width=\"24px\">\n",
              "    <g>\n",
              "        <path d=\"M19 3H5c-1.1 0-2 .9-2 2v14c0 1.1.9 2 2 2h14c1.1 0 2-.9 2-2V5c0-1.1-.9-2-2-2zM9 17H7v-7h2v7zm4 0h-2V7h2v10zm4 0h-2v-4h2v4z\"/>\n",
              "    </g>\n",
              "</svg>\n",
              "  </button>\n",
              "\n",
              "<style>\n",
              "  .colab-df-quickchart {\n",
              "      --bg-color: #E8F0FE;\n",
              "      --fill-color: #1967D2;\n",
              "      --hover-bg-color: #E2EBFA;\n",
              "      --hover-fill-color: #174EA6;\n",
              "      --disabled-fill-color: #AAA;\n",
              "      --disabled-bg-color: #DDD;\n",
              "  }\n",
              "\n",
              "  [theme=dark] .colab-df-quickchart {\n",
              "      --bg-color: #3B4455;\n",
              "      --fill-color: #D2E3FC;\n",
              "      --hover-bg-color: #434B5C;\n",
              "      --hover-fill-color: #FFFFFF;\n",
              "      --disabled-bg-color: #3B4455;\n",
              "      --disabled-fill-color: #666;\n",
              "  }\n",
              "\n",
              "  .colab-df-quickchart {\n",
              "    background-color: var(--bg-color);\n",
              "    border: none;\n",
              "    border-radius: 50%;\n",
              "    cursor: pointer;\n",
              "    display: none;\n",
              "    fill: var(--fill-color);\n",
              "    height: 32px;\n",
              "    padding: 0;\n",
              "    width: 32px;\n",
              "  }\n",
              "\n",
              "  .colab-df-quickchart:hover {\n",
              "    background-color: var(--hover-bg-color);\n",
              "    box-shadow: 0 1px 2px rgba(60, 64, 67, 0.3), 0 1px 3px 1px rgba(60, 64, 67, 0.15);\n",
              "    fill: var(--button-hover-fill-color);\n",
              "  }\n",
              "\n",
              "  .colab-df-quickchart-complete:disabled,\n",
              "  .colab-df-quickchart-complete:disabled:hover {\n",
              "    background-color: var(--disabled-bg-color);\n",
              "    fill: var(--disabled-fill-color);\n",
              "    box-shadow: none;\n",
              "  }\n",
              "\n",
              "  .colab-df-spinner {\n",
              "    border: 2px solid var(--fill-color);\n",
              "    border-color: transparent;\n",
              "    border-bottom-color: var(--fill-color);\n",
              "    animation:\n",
              "      spin 1s steps(1) infinite;\n",
              "  }\n",
              "\n",
              "  @keyframes spin {\n",
              "    0% {\n",
              "      border-color: transparent;\n",
              "      border-bottom-color: var(--fill-color);\n",
              "      border-left-color: var(--fill-color);\n",
              "    }\n",
              "    20% {\n",
              "      border-color: transparent;\n",
              "      border-left-color: var(--fill-color);\n",
              "      border-top-color: var(--fill-color);\n",
              "    }\n",
              "    30% {\n",
              "      border-color: transparent;\n",
              "      border-left-color: var(--fill-color);\n",
              "      border-top-color: var(--fill-color);\n",
              "      border-right-color: var(--fill-color);\n",
              "    }\n",
              "    40% {\n",
              "      border-color: transparent;\n",
              "      border-right-color: var(--fill-color);\n",
              "      border-top-color: var(--fill-color);\n",
              "    }\n",
              "    60% {\n",
              "      border-color: transparent;\n",
              "      border-right-color: var(--fill-color);\n",
              "    }\n",
              "    80% {\n",
              "      border-color: transparent;\n",
              "      border-right-color: var(--fill-color);\n",
              "      border-bottom-color: var(--fill-color);\n",
              "    }\n",
              "    90% {\n",
              "      border-color: transparent;\n",
              "      border-bottom-color: var(--fill-color);\n",
              "    }\n",
              "  }\n",
              "</style>\n",
              "\n",
              "  <script>\n",
              "    async function quickchart(key) {\n",
              "      const quickchartButtonEl =\n",
              "        document.querySelector('#' + key + ' button');\n",
              "      quickchartButtonEl.disabled = true;  // To prevent multiple clicks.\n",
              "      quickchartButtonEl.classList.add('colab-df-spinner');\n",
              "      try {\n",
              "        const charts = await google.colab.kernel.invokeFunction(\n",
              "            'suggestCharts', [key], {});\n",
              "      } catch (error) {\n",
              "        console.error('Error during call to suggestCharts:', error);\n",
              "      }\n",
              "      quickchartButtonEl.classList.remove('colab-df-spinner');\n",
              "      quickchartButtonEl.classList.add('colab-df-quickchart-complete');\n",
              "    }\n",
              "    (() => {\n",
              "      let quickchartButtonEl =\n",
              "        document.querySelector('#df-78fea698-5ef7-40eb-ac03-6014ae347b7d button');\n",
              "      quickchartButtonEl.style.display =\n",
              "        google.colab.kernel.accessAllowed ? 'block' : 'none';\n",
              "    })();\n",
              "  </script>\n",
              "</div>\n",
              "    </div>\n",
              "  </div>\n"
            ]
          },
          "metadata": {},
          "execution_count": 89
        }
      ],
      "source": [
        "df.head().T"
      ]
    },
    {
      "cell_type": "code",
      "source": [
        "df.info()"
      ],
      "metadata": {
        "colab": {
          "base_uri": "https://localhost:8080/"
        },
        "id": "zAGvRqU1xzGi",
        "outputId": "f7cd7195-4845-468a-953a-eb18dfd667d2"
      },
      "execution_count": 90,
      "outputs": [
        {
          "output_type": "stream",
          "name": "stdout",
          "text": [
            "<class 'pandas.core.frame.DataFrame'>\n",
            "RangeIndex: 39078 entries, 0 to 39077\n",
            "Data columns (total 10 columns):\n",
            " #   Column           Non-Null Count  Dtype \n",
            "---  ------           --------------  ----- \n",
            " 0   Reviewer Name    39068 non-null  object\n",
            " 1   Reviews Count    39078 non-null  object\n",
            " 2   Country Code     39078 non-null  object\n",
            " 3   Experience Date  39078 non-null  object\n",
            " 4   Rating           39078 non-null  int64 \n",
            " 5   Review Date      39078 non-null  object\n",
            " 6   Review Title     39074 non-null  object\n",
            " 7   Review Text      34241 non-null  object\n",
            " 8   Reply Date       37731 non-null  object\n",
            " 9   Reply Text       37731 non-null  object\n",
            "dtypes: int64(1), object(9)\n",
            "memory usage: 3.0+ MB\n"
          ]
        }
      ]
    },
    {
      "cell_type": "markdown",
      "metadata": {
        "id": "Ls_1_Zrkxm25"
      },
      "source": [
        "### DATA PREPROCESSING"
      ]
    },
    {
      "cell_type": "code",
      "execution_count": 91,
      "metadata": {
        "tags": [],
        "id": "-wu8J52UPmyB"
      },
      "outputs": [],
      "source": [
        "# Remove \"review\" and \"reviews\" from the values in the \"Reviews Count\" column\n",
        "df['Reviews Count'] = df['Reviews Count'].str.replace('reviews', '').str.replace('review', '')\n",
        "\n",
        "# Convert the \"Reply Date\" column to a string data type\n",
        "df['Reply Date'] = df['Reply Date'].astype(str)\n",
        "\n",
        "# Remove \"Reply from Freedom Debt Relief\" from the \"Reply Date\" column in the existing DataFrame\n",
        "df['Reply Date'] = df['Reply Date'].str.replace(\"Reply from Freedom Debt Relief\", \"\")\n",
        "\n",
        "# Convert 'Experience Date', 'Review Date', 'Reply Date' columns to date\n",
        "df[['Experience Date', 'Review Date', 'Reply Date']] = df[['Experience Date', 'Review Date', 'Reply Date']].apply(pd.to_datetime, errors='coerce')\n",
        "\n",
        "# Convert \"Reviews Count\" column to integer\n",
        "df['Reviews Count'] = pd.to_numeric(df['Reviews Count'], errors='coerce').astype('Int64')"
      ]
    },
    {
      "cell_type": "code",
      "execution_count": 92,
      "metadata": {
        "id": "JlobUNY4PmyC",
        "colab": {
          "base_uri": "https://localhost:8080/"
        },
        "outputId": "7ed12240-78e4-4d5d-bad0-f12901c7d1d8"
      },
      "outputs": [
        {
          "output_type": "stream",
          "name": "stdout",
          "text": [
            "Reviewer Name        10\n",
            "Reviews Count         0\n",
            "Country Code          0\n",
            "Experience Date       0\n",
            "Rating                0\n",
            "Review Date         791\n",
            "Review Title          4\n",
            "Review Text        4837\n",
            "Reply Date         1684\n",
            "Reply Text         1347\n",
            "dtype: int64\n"
          ]
        }
      ],
      "source": [
        "# Missing values\n",
        "missing_values = df.isnull().sum()\n",
        "print(missing_values)"
      ]
    },
    {
      "cell_type": "code",
      "execution_count": 93,
      "metadata": {
        "id": "1FoNr9F2PmyC"
      },
      "outputs": [],
      "source": [
        "# Drop rows with missing values in specific columns\n",
        "df.dropna(subset=['Reviewer Name', 'Experience Date', 'Rating', 'Review Date', 'Review Title', 'Review Text'], inplace=True)"
      ]
    },
    {
      "cell_type": "code",
      "execution_count": 94,
      "metadata": {
        "id": "959bXe9ZPmyD",
        "colab": {
          "base_uri": "https://localhost:8080/",
          "height": 394
        },
        "outputId": "5e55a690-1116-4728-f866-29ade5763070"
      },
      "outputs": [
        {
          "output_type": "execute_result",
          "data": {
            "text/plain": [
              "                                                                 2  \\\n",
              "Reviewer Name                                          Freida Towe   \n",
              "Reviews Count                                                    1   \n",
              "Country Code                                                    US   \n",
              "Experience Date                                2019-12-04 00:00:00   \n",
              "Rating                                                           5   \n",
              "Review Date                                    2019-12-04 00:00:00   \n",
              "Review Title                                  Very polite and kind   \n",
              "Review Text      Very polite and kind. Did what I asked immedia...   \n",
              "Reply Date                                     2019-12-04 00:00:00   \n",
              "Reply Text       Thank you very much, Freida! We truly care abo...   \n",
              "Country Name                                         United States   \n",
              "\n",
              "                                                                 3  \\\n",
              "Reviewer Name                                        Jabrea Herron   \n",
              "Reviews Count                                                    1   \n",
              "Country Code                                                    US   \n",
              "Experience Date                                2019-12-04 00:00:00   \n",
              "Rating                                                           5   \n",
              "Review Date                                    2019-12-04 00:00:00   \n",
              "Review Title                                Great customer service   \n",
              "Review Text      There wasn't a long wait time . The representa...   \n",
              "Reply Date                                     2019-12-05 00:00:00   \n",
              "Reply Text       Jabrea, We are so happy to hear that you are h...   \n",
              "Country Name                                         United States   \n",
              "\n",
              "                                                                 4  \\\n",
              "Reviewer Name                                         William Lutz   \n",
              "Reviews Count                                                    2   \n",
              "Country Code                                                    US   \n",
              "Experience Date                                2019-12-04 00:00:00   \n",
              "Rating                                                           5   \n",
              "Review Date                                    2019-12-04 00:00:00   \n",
              "Review Title                       Needed an answer to a question…   \n",
              "Review Text      Needed an answer to a question concerning a pa...   \n",
              "Reply Date                                     2019-12-04 00:00:00   \n",
              "Reply Text       Hello William, thank you for sharing your expe...   \n",
              "Country Name                                         United States   \n",
              "\n",
              "                                                                 5  \\\n",
              "Reviewer Name                                         John Novotny   \n",
              "Reviews Count                                                    1   \n",
              "Country Code                                                    US   \n",
              "Experience Date                                2019-12-04 00:00:00   \n",
              "Rating                                                           5   \n",
              "Review Date                                    2019-12-04 00:00:00   \n",
              "Review Title                                      i had a question   \n",
              "Review Text       I got my answer right away .  very professional.   \n",
              "Reply Date                                     2019-12-04 00:00:00   \n",
              "Reply Text       John, thank you for your review. We strive to ...   \n",
              "Country Name                                         United States   \n",
              "\n",
              "                                                                 6  \n",
              "Reviewer Name                                              Maria S  \n",
              "Reviews Count                                                    1  \n",
              "Country Code                                                    US  \n",
              "Experience Date                                2019-12-04 00:00:00  \n",
              "Rating                                                           1  \n",
              "Review Date                                    2019-12-04 00:00:00  \n",
              "Review Title                      This company charges outrageous…  \n",
              "Review Text      This company charges outrageous settlement fee...  \n",
              "Reply Date                                     2019-12-04 00:00:00  \n",
              "Reply Text       We apologize, Ms. Maria, for any frustrations ...  \n",
              "Country Name                                         United States  "
            ],
            "text/html": [
              "\n",
              "  <div id=\"df-b08343eb-4d37-4dd5-9042-7dbe36142876\" class=\"colab-df-container\">\n",
              "    <div>\n",
              "<style scoped>\n",
              "    .dataframe tbody tr th:only-of-type {\n",
              "        vertical-align: middle;\n",
              "    }\n",
              "\n",
              "    .dataframe tbody tr th {\n",
              "        vertical-align: top;\n",
              "    }\n",
              "\n",
              "    .dataframe thead th {\n",
              "        text-align: right;\n",
              "    }\n",
              "</style>\n",
              "<table border=\"1\" class=\"dataframe\">\n",
              "  <thead>\n",
              "    <tr style=\"text-align: right;\">\n",
              "      <th></th>\n",
              "      <th>2</th>\n",
              "      <th>3</th>\n",
              "      <th>4</th>\n",
              "      <th>5</th>\n",
              "      <th>6</th>\n",
              "    </tr>\n",
              "  </thead>\n",
              "  <tbody>\n",
              "    <tr>\n",
              "      <th>Reviewer Name</th>\n",
              "      <td>Freida Towe</td>\n",
              "      <td>Jabrea Herron</td>\n",
              "      <td>William Lutz</td>\n",
              "      <td>John Novotny</td>\n",
              "      <td>Maria S</td>\n",
              "    </tr>\n",
              "    <tr>\n",
              "      <th>Reviews Count</th>\n",
              "      <td>1</td>\n",
              "      <td>1</td>\n",
              "      <td>2</td>\n",
              "      <td>1</td>\n",
              "      <td>1</td>\n",
              "    </tr>\n",
              "    <tr>\n",
              "      <th>Country Code</th>\n",
              "      <td>US</td>\n",
              "      <td>US</td>\n",
              "      <td>US</td>\n",
              "      <td>US</td>\n",
              "      <td>US</td>\n",
              "    </tr>\n",
              "    <tr>\n",
              "      <th>Experience Date</th>\n",
              "      <td>2019-12-04 00:00:00</td>\n",
              "      <td>2019-12-04 00:00:00</td>\n",
              "      <td>2019-12-04 00:00:00</td>\n",
              "      <td>2019-12-04 00:00:00</td>\n",
              "      <td>2019-12-04 00:00:00</td>\n",
              "    </tr>\n",
              "    <tr>\n",
              "      <th>Rating</th>\n",
              "      <td>5</td>\n",
              "      <td>5</td>\n",
              "      <td>5</td>\n",
              "      <td>5</td>\n",
              "      <td>1</td>\n",
              "    </tr>\n",
              "    <tr>\n",
              "      <th>Review Date</th>\n",
              "      <td>2019-12-04 00:00:00</td>\n",
              "      <td>2019-12-04 00:00:00</td>\n",
              "      <td>2019-12-04 00:00:00</td>\n",
              "      <td>2019-12-04 00:00:00</td>\n",
              "      <td>2019-12-04 00:00:00</td>\n",
              "    </tr>\n",
              "    <tr>\n",
              "      <th>Review Title</th>\n",
              "      <td>Very polite and kind</td>\n",
              "      <td>Great customer service</td>\n",
              "      <td>Needed an answer to a question…</td>\n",
              "      <td>i had a question</td>\n",
              "      <td>This company charges outrageous…</td>\n",
              "    </tr>\n",
              "    <tr>\n",
              "      <th>Review Text</th>\n",
              "      <td>Very polite and kind. Did what I asked immedia...</td>\n",
              "      <td>There wasn't a long wait time . The representa...</td>\n",
              "      <td>Needed an answer to a question concerning a pa...</td>\n",
              "      <td>I got my answer right away .  very professional.</td>\n",
              "      <td>This company charges outrageous settlement fee...</td>\n",
              "    </tr>\n",
              "    <tr>\n",
              "      <th>Reply Date</th>\n",
              "      <td>2019-12-04 00:00:00</td>\n",
              "      <td>2019-12-05 00:00:00</td>\n",
              "      <td>2019-12-04 00:00:00</td>\n",
              "      <td>2019-12-04 00:00:00</td>\n",
              "      <td>2019-12-04 00:00:00</td>\n",
              "    </tr>\n",
              "    <tr>\n",
              "      <th>Reply Text</th>\n",
              "      <td>Thank you very much, Freida! We truly care abo...</td>\n",
              "      <td>Jabrea, We are so happy to hear that you are h...</td>\n",
              "      <td>Hello William, thank you for sharing your expe...</td>\n",
              "      <td>John, thank you for your review. We strive to ...</td>\n",
              "      <td>We apologize, Ms. Maria, for any frustrations ...</td>\n",
              "    </tr>\n",
              "    <tr>\n",
              "      <th>Country Name</th>\n",
              "      <td>United States</td>\n",
              "      <td>United States</td>\n",
              "      <td>United States</td>\n",
              "      <td>United States</td>\n",
              "      <td>United States</td>\n",
              "    </tr>\n",
              "  </tbody>\n",
              "</table>\n",
              "</div>\n",
              "    <div class=\"colab-df-buttons\">\n",
              "\n",
              "  <div class=\"colab-df-container\">\n",
              "    <button class=\"colab-df-convert\" onclick=\"convertToInteractive('df-b08343eb-4d37-4dd5-9042-7dbe36142876')\"\n",
              "            title=\"Convert this dataframe to an interactive table.\"\n",
              "            style=\"display:none;\">\n",
              "\n",
              "  <svg xmlns=\"http://www.w3.org/2000/svg\" height=\"24px\" viewBox=\"0 -960 960 960\">\n",
              "    <path d=\"M120-120v-720h720v720H120Zm60-500h600v-160H180v160Zm220 220h160v-160H400v160Zm0 220h160v-160H400v160ZM180-400h160v-160H180v160Zm440 0h160v-160H620v160ZM180-180h160v-160H180v160Zm440 0h160v-160H620v160Z\"/>\n",
              "  </svg>\n",
              "    </button>\n",
              "\n",
              "  <style>\n",
              "    .colab-df-container {\n",
              "      display:flex;\n",
              "      gap: 12px;\n",
              "    }\n",
              "\n",
              "    .colab-df-convert {\n",
              "      background-color: #E8F0FE;\n",
              "      border: none;\n",
              "      border-radius: 50%;\n",
              "      cursor: pointer;\n",
              "      display: none;\n",
              "      fill: #1967D2;\n",
              "      height: 32px;\n",
              "      padding: 0 0 0 0;\n",
              "      width: 32px;\n",
              "    }\n",
              "\n",
              "    .colab-df-convert:hover {\n",
              "      background-color: #E2EBFA;\n",
              "      box-shadow: 0px 1px 2px rgba(60, 64, 67, 0.3), 0px 1px 3px 1px rgba(60, 64, 67, 0.15);\n",
              "      fill: #174EA6;\n",
              "    }\n",
              "\n",
              "    .colab-df-buttons div {\n",
              "      margin-bottom: 4px;\n",
              "    }\n",
              "\n",
              "    [theme=dark] .colab-df-convert {\n",
              "      background-color: #3B4455;\n",
              "      fill: #D2E3FC;\n",
              "    }\n",
              "\n",
              "    [theme=dark] .colab-df-convert:hover {\n",
              "      background-color: #434B5C;\n",
              "      box-shadow: 0px 1px 3px 1px rgba(0, 0, 0, 0.15);\n",
              "      filter: drop-shadow(0px 1px 2px rgba(0, 0, 0, 0.3));\n",
              "      fill: #FFFFFF;\n",
              "    }\n",
              "  </style>\n",
              "\n",
              "    <script>\n",
              "      const buttonEl =\n",
              "        document.querySelector('#df-b08343eb-4d37-4dd5-9042-7dbe36142876 button.colab-df-convert');\n",
              "      buttonEl.style.display =\n",
              "        google.colab.kernel.accessAllowed ? 'block' : 'none';\n",
              "\n",
              "      async function convertToInteractive(key) {\n",
              "        const element = document.querySelector('#df-b08343eb-4d37-4dd5-9042-7dbe36142876');\n",
              "        const dataTable =\n",
              "          await google.colab.kernel.invokeFunction('convertToInteractive',\n",
              "                                                    [key], {});\n",
              "        if (!dataTable) return;\n",
              "\n",
              "        const docLinkHtml = 'Like what you see? Visit the ' +\n",
              "          '<a target=\"_blank\" href=https://colab.research.google.com/notebooks/data_table.ipynb>data table notebook</a>'\n",
              "          + ' to learn more about interactive tables.';\n",
              "        element.innerHTML = '';\n",
              "        dataTable['output_type'] = 'display_data';\n",
              "        await google.colab.output.renderOutput(dataTable, element);\n",
              "        const docLink = document.createElement('div');\n",
              "        docLink.innerHTML = docLinkHtml;\n",
              "        element.appendChild(docLink);\n",
              "      }\n",
              "    </script>\n",
              "  </div>\n",
              "\n",
              "\n",
              "<div id=\"df-d672f7e5-d04d-4bef-a945-52f3a3ea1968\">\n",
              "  <button class=\"colab-df-quickchart\" onclick=\"quickchart('df-d672f7e5-d04d-4bef-a945-52f3a3ea1968')\"\n",
              "            title=\"Suggest charts\"\n",
              "            style=\"display:none;\">\n",
              "\n",
              "<svg xmlns=\"http://www.w3.org/2000/svg\" height=\"24px\"viewBox=\"0 0 24 24\"\n",
              "     width=\"24px\">\n",
              "    <g>\n",
              "        <path d=\"M19 3H5c-1.1 0-2 .9-2 2v14c0 1.1.9 2 2 2h14c1.1 0 2-.9 2-2V5c0-1.1-.9-2-2-2zM9 17H7v-7h2v7zm4 0h-2V7h2v10zm4 0h-2v-4h2v4z\"/>\n",
              "    </g>\n",
              "</svg>\n",
              "  </button>\n",
              "\n",
              "<style>\n",
              "  .colab-df-quickchart {\n",
              "      --bg-color: #E8F0FE;\n",
              "      --fill-color: #1967D2;\n",
              "      --hover-bg-color: #E2EBFA;\n",
              "      --hover-fill-color: #174EA6;\n",
              "      --disabled-fill-color: #AAA;\n",
              "      --disabled-bg-color: #DDD;\n",
              "  }\n",
              "\n",
              "  [theme=dark] .colab-df-quickchart {\n",
              "      --bg-color: #3B4455;\n",
              "      --fill-color: #D2E3FC;\n",
              "      --hover-bg-color: #434B5C;\n",
              "      --hover-fill-color: #FFFFFF;\n",
              "      --disabled-bg-color: #3B4455;\n",
              "      --disabled-fill-color: #666;\n",
              "  }\n",
              "\n",
              "  .colab-df-quickchart {\n",
              "    background-color: var(--bg-color);\n",
              "    border: none;\n",
              "    border-radius: 50%;\n",
              "    cursor: pointer;\n",
              "    display: none;\n",
              "    fill: var(--fill-color);\n",
              "    height: 32px;\n",
              "    padding: 0;\n",
              "    width: 32px;\n",
              "  }\n",
              "\n",
              "  .colab-df-quickchart:hover {\n",
              "    background-color: var(--hover-bg-color);\n",
              "    box-shadow: 0 1px 2px rgba(60, 64, 67, 0.3), 0 1px 3px 1px rgba(60, 64, 67, 0.15);\n",
              "    fill: var(--button-hover-fill-color);\n",
              "  }\n",
              "\n",
              "  .colab-df-quickchart-complete:disabled,\n",
              "  .colab-df-quickchart-complete:disabled:hover {\n",
              "    background-color: var(--disabled-bg-color);\n",
              "    fill: var(--disabled-fill-color);\n",
              "    box-shadow: none;\n",
              "  }\n",
              "\n",
              "  .colab-df-spinner {\n",
              "    border: 2px solid var(--fill-color);\n",
              "    border-color: transparent;\n",
              "    border-bottom-color: var(--fill-color);\n",
              "    animation:\n",
              "      spin 1s steps(1) infinite;\n",
              "  }\n",
              "\n",
              "  @keyframes spin {\n",
              "    0% {\n",
              "      border-color: transparent;\n",
              "      border-bottom-color: var(--fill-color);\n",
              "      border-left-color: var(--fill-color);\n",
              "    }\n",
              "    20% {\n",
              "      border-color: transparent;\n",
              "      border-left-color: var(--fill-color);\n",
              "      border-top-color: var(--fill-color);\n",
              "    }\n",
              "    30% {\n",
              "      border-color: transparent;\n",
              "      border-left-color: var(--fill-color);\n",
              "      border-top-color: var(--fill-color);\n",
              "      border-right-color: var(--fill-color);\n",
              "    }\n",
              "    40% {\n",
              "      border-color: transparent;\n",
              "      border-right-color: var(--fill-color);\n",
              "      border-top-color: var(--fill-color);\n",
              "    }\n",
              "    60% {\n",
              "      border-color: transparent;\n",
              "      border-right-color: var(--fill-color);\n",
              "    }\n",
              "    80% {\n",
              "      border-color: transparent;\n",
              "      border-right-color: var(--fill-color);\n",
              "      border-bottom-color: var(--fill-color);\n",
              "    }\n",
              "    90% {\n",
              "      border-color: transparent;\n",
              "      border-bottom-color: var(--fill-color);\n",
              "    }\n",
              "  }\n",
              "</style>\n",
              "\n",
              "  <script>\n",
              "    async function quickchart(key) {\n",
              "      const quickchartButtonEl =\n",
              "        document.querySelector('#' + key + ' button');\n",
              "      quickchartButtonEl.disabled = true;  // To prevent multiple clicks.\n",
              "      quickchartButtonEl.classList.add('colab-df-spinner');\n",
              "      try {\n",
              "        const charts = await google.colab.kernel.invokeFunction(\n",
              "            'suggestCharts', [key], {});\n",
              "      } catch (error) {\n",
              "        console.error('Error during call to suggestCharts:', error);\n",
              "      }\n",
              "      quickchartButtonEl.classList.remove('colab-df-spinner');\n",
              "      quickchartButtonEl.classList.add('colab-df-quickchart-complete');\n",
              "    }\n",
              "    (() => {\n",
              "      let quickchartButtonEl =\n",
              "        document.querySelector('#df-d672f7e5-d04d-4bef-a945-52f3a3ea1968 button');\n",
              "      quickchartButtonEl.style.display =\n",
              "        google.colab.kernel.accessAllowed ? 'block' : 'none';\n",
              "    })();\n",
              "  </script>\n",
              "</div>\n",
              "    </div>\n",
              "  </div>\n"
            ]
          },
          "metadata": {},
          "execution_count": 94
        }
      ],
      "source": [
        "# Add a new column with country names\n",
        "df['Country Name'] = df['Country Code'].apply(lambda code: pycountry.countries.get(alpha_2=code).name if pycountry.countries.get(alpha_2=code) else None)\n",
        "\n",
        "# Replace the existing 'Country Name' column with the updated one\n",
        "df['Country Name'] = df['Country Name']\n",
        "\n",
        "# Display the updated DataFrame\n",
        "df.head().T"
      ]
    },
    {
      "cell_type": "code",
      "execution_count": 95,
      "metadata": {
        "id": "NjKXS9PgPflC",
        "tags": [],
        "colab": {
          "base_uri": "https://localhost:8080/"
        },
        "outputId": "aeaba457-c745-4f14-def4-718daa8118a5"
      },
      "outputs": [
        {
          "output_type": "stream",
          "name": "stdout",
          "text": [
            "<class 'pandas.core.frame.DataFrame'>\n",
            "Int64Index: 33454 entries, 2 to 39077\n",
            "Data columns (total 11 columns):\n",
            " #   Column           Non-Null Count  Dtype         \n",
            "---  ------           --------------  -----         \n",
            " 0   Reviewer Name    33454 non-null  object        \n",
            " 1   Reviews Count    33454 non-null  Int64         \n",
            " 2   Country Code     33454 non-null  object        \n",
            " 3   Experience Date  33454 non-null  datetime64[ns]\n",
            " 4   Rating           33454 non-null  int64         \n",
            " 5   Review Date      33454 non-null  datetime64[ns]\n",
            " 6   Review Title     33454 non-null  object        \n",
            " 7   Review Text      33454 non-null  object        \n",
            " 8   Reply Date       31901 non-null  datetime64[ns]\n",
            " 9   Reply Text       32135 non-null  object        \n",
            " 10  Country Name     33454 non-null  object        \n",
            "dtypes: Int64(1), datetime64[ns](3), int64(1), object(6)\n",
            "memory usage: 3.1+ MB\n"
          ]
        }
      ],
      "source": [
        "df.info()"
      ]
    },
    {
      "cell_type": "code",
      "execution_count": 96,
      "metadata": {
        "id": "eNl5AZsjPmyD"
      },
      "outputs": [],
      "source": [
        "# Save the DataFrame to a CSV file\n",
        "df.to_csv('cleaned1.csv', index=False)"
      ]
    },
    {
      "cell_type": "markdown",
      "metadata": {
        "id": "EoW0kH8ZWjep"
      },
      "source": [
        "**Unique Values**"
      ]
    },
    {
      "cell_type": "code",
      "execution_count": 97,
      "metadata": {
        "id": "ybsmm7TiVewf",
        "tags": [],
        "colab": {
          "base_uri": "https://localhost:8080/"
        },
        "outputId": "60636868-6780-4db0-b48b-b7201b140dcc"
      },
      "outputs": [
        {
          "output_type": "execute_result",
          "data": {
            "text/plain": [
              "Reviewer Name      27628\n",
              "Reviews Count         29\n",
              "Country Code          50\n",
              "Experience Date     2807\n",
              "Rating                 5\n",
              "Review Date         2823\n",
              "Review Title       28611\n",
              "Review Text        33371\n",
              "Reply Date          1633\n",
              "Reply Text         24180\n",
              "Country Name          50\n",
              "dtype: int64"
            ]
          },
          "metadata": {},
          "execution_count": 97
        }
      ],
      "source": [
        "df.nunique()"
      ]
    },
    {
      "cell_type": "markdown",
      "metadata": {
        "id": "tHsUctOGPmyE"
      },
      "source": [
        "## RATING ANALYSIS BY COUNTRY"
      ]
    },
    {
      "cell_type": "code",
      "execution_count": 98,
      "metadata": {
        "tags": [],
        "id": "N8blkWw6PmyE",
        "colab": {
          "base_uri": "https://localhost:8080/"
        },
        "outputId": "df130f7a-f209-4328-f9ee-c6ded585bbfc"
      },
      "outputs": [
        {
          "output_type": "stream",
          "name": "stdout",
          "text": [
            "Number of unique countries: 50\n"
          ]
        }
      ],
      "source": [
        "# Number of unique countries\n",
        "number_of_countries = df['Country Name'].nunique()\n",
        "print(\"Number of unique countries:\", number_of_countries)"
      ]
    },
    {
      "cell_type": "code",
      "execution_count": 99,
      "metadata": {
        "tags": [],
        "id": "oqbDKUKMPmyE",
        "colab": {
          "base_uri": "https://localhost:8080/"
        },
        "outputId": "0150f4ad-9d08-43b4-a61c-166db4a696fa"
      },
      "outputs": [
        {
          "output_type": "stream",
          "name": "stdout",
          "text": [
            "  Country Code  Number of Codes    Country Name\n",
            "0           US            33254   United States\n",
            "1           PR               69     Puerto Rico\n",
            "2           MX               15          Mexico\n",
            "3           GU               12            Guam\n",
            "4           GB                9  United Kingdom\n",
            "5           CA                8          Canada\n",
            "6           PH                7     Philippines\n",
            "7           DE                6         Germany\n",
            "8           AU                5       Australia\n",
            "9           IQ                4            Iraq\n"
          ]
        }
      ],
      "source": [
        "# Extract unique country codes and their counts\n",
        "unique_country_codes = df['Country Code'].unique()\n",
        "code_counts = df['Country Code'].value_counts().reset_index()\n",
        "code_counts.columns = ['Country Code', 'Number of Codes']\n",
        "\n",
        "# Create a new DataFrame with the unique country codes and their counts\n",
        "new_df = pd.DataFrame({'Country Code': unique_country_codes})\n",
        "new_df = new_df.merge(code_counts, on='Country Code', how='left')\n",
        "\n",
        "# Sort the new DataFrame in descending order based on the 'Number of Codes' column\n",
        "new_df = new_df.sort_values(by='Number of Codes', ascending=False)\n",
        "\n",
        "# Reset the index\n",
        "new_df = new_df.reset_index(drop=True)\n",
        "\n",
        "# Display the first 10 rows with country names\n",
        "first_10 = new_df.head(10).copy()  # Ensure you create a copy\n",
        "\n",
        "# Map country codes to names using pycountry\n",
        "first_10.loc[:, 'Country Name'] = first_10['Country Code'].apply(lambda code: pycountry.countries.get(alpha_2=code).name)\n",
        "\n",
        "print(first_10[['Country Code', 'Number of Codes', 'Country Name']])"
      ]
    },
    {
      "cell_type": "code",
      "execution_count": 100,
      "metadata": {
        "tags": [],
        "id": "WzhmHJgPPmyE",
        "colab": {
          "base_uri": "https://localhost:8080/"
        },
        "outputId": "f3dfbb4b-442d-466f-806c-2443193f2297"
      },
      "outputs": [
        {
          "output_type": "stream",
          "name": "stdout",
          "text": [
            "  Country Code  Number of Codes    Country Name  Mean Rating\n",
            "0           US            33254   United States     3.666667\n",
            "1           PR               69     Puerto Rico     5.000000\n",
            "2           MX               15          Mexico     5.000000\n",
            "3           GU               12            Guam     4.200000\n",
            "4           GB                9  United Kingdom     5.000000\n",
            "5           CA                8          Canada     5.000000\n",
            "6           PH                7     Philippines     5.000000\n",
            "7           DE                6         Germany     4.500000\n",
            "8           AU                5       Australia     4.875000\n",
            "9           IQ                4             NaN     5.000000\n"
          ]
        },
        {
          "output_type": "stream",
          "name": "stderr",
          "text": [
            "<ipython-input-100-eafaa10b5048>:6: FutureWarning: Passing 'suffixes' which cause duplicate columns {'Mean Rating_x'} in the result is deprecated and will raise a MergeError in a future version.\n",
            "  first_10_copy = first_10_copy.merge(mean_ratings, on='Country Code', how='left')\n"
          ]
        }
      ],
      "source": [
        "# Calculate the mean ratings\n",
        "mean_ratings = df.groupby('Country Code')['Rating'].mean().reset_index()\n",
        "mean_ratings.columns = ['Country Code', 'Mean Rating']\n",
        "\n",
        "# Merge the mean ratings with the first_10_copy DataFrame\n",
        "first_10_copy = first_10_copy.merge(mean_ratings, on='Country Code', how='left')\n",
        "\n",
        "# If 'first_10_copy' is missing the 'Mean Rating' column, make sure to recreate it\n",
        "if 'Mean Rating' not in first_10_copy.columns:\n",
        "    first_10_copy['Mean Rating'] = mean_ratings['Mean Rating']\n",
        "\n",
        "print(first_10_copy[['Country Code', 'Number of Codes', 'Country Name', 'Mean Rating']])"
      ]
    },
    {
      "cell_type": "code",
      "source": [
        "import matplotlib.pyplot as plt\n",
        "import seaborn as sns\n",
        "\n",
        "# Calculate the mean ratings\n",
        "mean_ratings = df.groupby('Country Code')['Rating'].mean().reset_index()\n",
        "mean_ratings.columns = ['Country Code', 'Mean Rating']\n",
        "\n",
        "# Merge the mean ratings with the first_10_copy DataFrame\n",
        "first_10_copy = first_10_copy.merge(mean_ratings, on='Country Code', how='left', suffixes=('_original', '_mean'))\n",
        "\n",
        "# If 'first_10_copy' is missing the 'Mean Rating' column, make sure to recreate it\n",
        "if 'Mean Rating' not in first_10_copy.columns:\n",
        "    first_10_copy['Mean Rating'] = mean_ratings['Mean Rating']\n",
        "\n",
        "# Display the DataFrame with mean ratings\n",
        "print(first_10_copy[['Country Code', 'Number of Codes', 'Country Name', 'Mean Rating']])\n",
        "\n",
        "# Bar plot for Mean Ratings by Country\n",
        "plt.figure(figsize=(12, 8))\n",
        "ax = sns.barplot(x='Country Name', y='Mean Rating_mean', data=first_10_copy, palette='viridis')\n",
        "plt.title('Mean Ratings by First 10 Country', fontsize=24, fontweight='bold', color='red')\n",
        "plt.xlabel('', fontsize=14)\n",
        "plt.ylabel('Mean Rating', fontsize=18, fontweight='bold', color='red')\n",
        "plt.xticks(rotation=90, fontsize=18, fontweight='bold', color='red')\n",
        "\n",
        "# Add labels to the bars at the center of each bar\n",
        "for i, val in enumerate(first_10_copy['Mean Rating_mean']):\n",
        "    ax.text(i, val/2, f'{val:.2f}', ha='center', va='center', fontsize=22, fontweight='bold', color='white', rotation=90)\n",
        "\n",
        "plt.show()\n"
      ],
      "metadata": {
        "colab": {
          "base_uri": "https://localhost:8080/",
          "height": 1000
        },
        "id": "9VBgCxYs6jpE",
        "outputId": "bc2dc150-2b1d-4d5c-882c-b69dc70234a9"
      },
      "execution_count": 102,
      "outputs": [
        {
          "output_type": "stream",
          "name": "stdout",
          "text": [
            "  Country Code  Number of Codes    Country Name  Mean Rating\n",
            "0           US            33254   United States     3.666667\n",
            "1           PR               69     Puerto Rico     5.000000\n",
            "2           MX               15          Mexico     5.000000\n",
            "3           GU               12            Guam     4.200000\n",
            "4           GB                9  United Kingdom     5.000000\n",
            "5           CA                8          Canada     5.000000\n",
            "6           PH                7     Philippines     5.000000\n",
            "7           DE                6         Germany     4.500000\n",
            "8           AU                5       Australia     4.875000\n",
            "9           IQ                4             NaN     5.000000\n"
          ]
        },
        {
          "output_type": "display_data",
          "data": {
            "text/plain": [
              "<Figure size 1200x800 with 1 Axes>"
            ],
            "image/png": "[encoded data removed]"
          },
          "metadata": {}
        }
      ]
    },
    {
      "cell_type": "code",
      "execution_count": 54,
      "metadata": {
        "tags": [],
        "id": "bhWvsAqgPmyF",
        "colab": {
          "base_uri": "https://localhost:8080/",
          "height": 1000
        },
        "outputId": "32cc22c7-346f-4732-a926-be0650b7bd89"
      },
      "outputs": [
        {
          "output_type": "stream",
          "name": "stdout",
          "text": [
            "Mean Ratings by Country:\n",
            "                 Country Name  Mean Rating\n",
            "0              American Samoa     5.000000\n",
            "19                  Hong Kong     5.000000\n",
            "21                       Iraq     5.000000\n",
            "1                   Argentina     5.000000\n",
            "26                      Japan     5.000000\n",
            "27                     Kuwait     5.000000\n",
            "28                     Mexico     5.000000\n",
            "29                Netherlands     5.000000\n",
            "30                New Zealand     5.000000\n",
            "32                   Pakistan     5.000000\n",
            "39                  Sri Lanka     5.000000\n",
            "40                Switzerland     5.000000\n",
            "41  Taiwan, Province of China     5.000000\n",
            "42                   Thailand     5.000000\n",
            "43        Trinidad and Tobago     5.000000\n",
            "44                    Ukraine     5.000000\n",
            "48                 Uzbekistan     5.000000\n",
            "20                      India     5.000000\n",
            "49       Virgin Islands, U.S.     5.000000\n",
            "18                      Haiti     5.000000\n",
            "3                  Bangladesh     5.000000\n",
            "4                    Barbados     5.000000\n",
            "6                    Bulgaria     5.000000\n",
            "14                    Georgia     5.000000\n",
            "8                       Chile     5.000000\n",
            "11         Dominican Republic     5.000000\n",
            "10                    Curaçao     5.000000\n",
            "9                     Croatia     5.000000\n",
            "7                      Canada     4.875000\n",
            "33                Philippines     4.857143\n",
            "17                       Guam     4.750000\n",
            "23                     Israel     4.666667\n",
            "13                     France     4.666667\n",
            "38                      Spain     4.666667\n",
            "34                Puerto Rico     4.608696\n",
            "47              United States     4.591748\n",
            "37               South Africa     4.500000\n",
            "5                      Brazil     4.500000\n",
            "2                   Australia     4.200000\n",
            "36               Saudi Arabia     4.000000\n",
            "24                      Italy     4.000000\n",
            "31                    Nigeria     3.666667\n",
            "15                    Germany     3.666667\n",
            "45       United Arab Emirates     3.666667\n",
            "46             United Kingdom     3.555556\n",
            "12                      Egypt     3.500000\n",
            "35                     Rwanda     3.000000\n",
            "22                    Ireland     3.000000\n",
            "16                     Greece     3.000000\n",
            "25                    Jamaica     3.000000\n",
            "The top-rated country is American Samoa with a mean rating of 5.0\n",
            "The bottom-rated country is Jamaica with a mean rating of 3.0\n"
          ]
        },
        {
          "output_type": "display_data",
          "data": {
            "text/plain": [
              "<Figure size 1800x800 with 1 Axes>"
            ],
            "image/png": "[encoded data removed]"
          },
          "metadata": {}
        }
      ],
      "source": [
        "# Calculate the mean ratings from the 'Rating' column\n",
        "mean_ratings = df.groupby('Country Name')['Rating'].mean().reset_index()\n",
        "mean_ratings.columns = ['Country Name', 'Mean Rating']\n",
        "\n",
        "# Sort the mean ratings in descending order by 'Mean Rating'\n",
        "mean_ratings = mean_ratings.sort_values(by='Mean Rating', ascending=False)\n",
        "\n",
        "# Display the mean ratings for each country\n",
        "print(\"Mean Ratings by Country:\")\n",
        "print(mean_ratings)\n",
        "\n",
        "# Display the top-rated country and its mean rating\n",
        "top_country = mean_ratings.iloc[0]\n",
        "print(f\"The top-rated country is {top_country['Country Name']} with a mean rating of {top_country['Mean Rating']}\")\n",
        "\n",
        "# Display the bottom-rated country and its mean rating\n",
        "bottom_country = mean_ratings.iloc[-1]\n",
        "print(f\"The bottom-rated country is {bottom_country['Country Name']} with a mean rating of {bottom_country['Mean Rating']}\")\n",
        "\n",
        "# Create a line graph for the mean ratings of countries with a darker line color\n",
        "plt.figure(figsize=(18, 8))\n",
        "plt.plot(mean_ratings['Country Name'], mean_ratings['Mean Rating'], marker='o', color='navy', linestyle='-')\n",
        "\n",
        "# plt.xlabel('Country Name', fontsize=12)\n",
        "plt.ylabel('Mean Rating', fontsize=12)\n",
        "\n",
        "# Add a stylized title\n",
        "plt.title('', fontsize=16, fontweight='bold', color='purple')\n",
        "\n",
        "plt.xticks(rotation=45)\n",
        "plt.grid(True)\n",
        "\n",
        "plt.show()"
      ]
    },
    {
      "cell_type": "markdown",
      "metadata": {
        "id": "_iCpDyXvPmyF"
      },
      "source": [
        "The \"Mean Ratings by Country\" table displays the mean ratings for each country based on the provided 'Rating' data. Here's a discussion and conclusion regarding the results:\n",
        "\n",
        "1. Canada (CA) has the highest mean rating, with an average rating of 4.6. This suggests that products or services related to Canada received the highest average ratings in the dataset.\n",
        "\n",
        "2. The United States (US) follows closely behind with a mean rating of 4.5, indicating that it also received high ratings, but slightly lower on average compared to Canada.\n",
        "\n",
        "3. France (FR) has the third-highest mean rating at 4.4. It received favorable ratings, making it one of the top-rated countries.\n",
        "\n",
        "4. Australia (AU) holds the fourth position with a mean rating of 4.3, suggesting positive feedback for products or services associated with Australia.\n",
        "\n",
        "5. The United Kingdom (GB) and Guam (GU) share the fifth position with a mean rating of 4.2. They have identical ratings on average, indicating a similar level of satisfaction or positive feedback.\n",
        "\n",
        "6. Germany (DE) is ranked seventh with a mean rating of 4.1, indicating that it also received positive ratings but slightly lower than the top-ranked countries.\n",
        "\n",
        "7. Mexico (MX) and the Philippines (PH) have mean ratings of 4.0 and 3.9, respectively. These countries have received generally positive but slightly lower ratings on average compared to the top-performing countries.\n",
        "\n",
        "8. Puerto Rico (PR) has the lowest mean rating of 3.8. While this is the lowest among the top 10 countries, it may still represent a relatively positive sentiment.\n",
        "\n",
        "In conclusion, the results suggest that Canada and the United States received the highest mean ratings, indicating that products or services related to these countries were well-received by the audience. The other countries in the top 10 also received positive feedback, with relatively minor differences in their average ratings. It's important to consider that these ratings are based on the data available, and the specific context of the ratings may vary. Further analysis may be needed to understand the factors influencing these ratings and their implications."
      ]
    },
    {
      "cell_type": "markdown",
      "metadata": {
        "id": "fgV0hFL2PmyF"
      },
      "source": [
        "**Mean Ratings by Country:**\n",
        "- Canada (CA) and the United States (US) received the highest mean ratings, indicating positive feedback.\n",
        "- France (FR) and Australia (AU) also received high mean ratings, suggesting favorable sentiment.\n",
        "- The United Kingdom (GB) and Guam (GU) have similar mean ratings, indicating positive feedback.\n",
        "- Germany (DE) and the Philippines (PH) received slightly lower but generally positive ratings.\n",
        "- Mexico (MX) had a mean rating of 4.0, while Puerto Rico (PR) had the lowest mean rating at 3.8.\n",
        "- These results provide insights into the average satisfaction with products or services related to these countries.\n",
        "\n",
        "**Top 10 Countries by Number of Codes and Mean Ratings:**\n",
        "- The United States (US) stands out with the highest number of codes (38,827) and the highest mean rating (4.5), indicating both a substantial presence and positive feedback.\n",
        "- Canada (CA) received the highest mean rating (4.6) with a relatively small number of codes (12).\n",
        "- Guam (GU) received one of the highest mean ratings (4.2) with a smaller number of codes (14).\n",
        "- The data reflects the varying levels of representation and satisfaction among these countries.\n",
        "\n",
        "In conclusion, the analysis reveals that Canada and the United States received the highest mean ratings, indicating positive feedback. The number of codes associated with each country may reflect their representation in the dataset. Overall, this data provides valuable insights into customer satisfaction and the popularity of products or services related to these countries."
      ]
    },
    {
      "cell_type": "code",
      "execution_count": null,
      "metadata": {
        "tags": [],
        "id": "q5SuQearPmyG"
      },
      "outputs": [],
      "source": [
        "# Extract the year from the 'Review Date' column\n",
        "df['Year'] = df['Review Date'].dt.year\n",
        "\n",
        "# Group the data by year and calculate the count of ratings\n",
        "yearly_rating_counts = df.groupby(['Year', 'Rating'])['Rating'].count().unstack().fillna(0)\n",
        "\n",
        "# Set the color map for rating categories\n",
        "colors = plt.cm.Paired(np.arange(5))\n",
        "\n",
        "# Create a larger figure\n",
        "fig, ax = plt.subplots(figsize=(14, 6))\n",
        "\n",
        "# Define the width of each bar\n",
        "bar_width = 0.18\n",
        "\n",
        "# Define the x positions for the bars\n",
        "x = yearly_rating_counts.index.astype(int)  # Convert the years to integers\n",
        "\n",
        "# Create bar plots for each rating category\n",
        "for i, (rating, color) in enumerate(zip(yearly_rating_counts.columns, colors)):\n",
        "    ratings = yearly_rating_counts[rating]\n",
        "    ax.bar(x + (i * bar_width), ratings, bar_width, label=f'Rating {rating}', color=color)\n",
        "\n",
        "    # Write the rating bars value on the bars with 8-point font size\n",
        "    for j, rating_count in enumerate(ratings):\n",
        "        if rating_count > 0:\n",
        "            ax.text(x[j] + i * bar_width, rating_count, str(rating_count), ha='center', va='bottom', fontsize=8)\n",
        "\n",
        "# Set x-axis labels with bold fontweight\n",
        "ax.set_xticks(x)\n",
        "ax.set_xticklabels(x, fontweight='bold')\n",
        "\n",
        "# Set y-axis label\n",
        "ax.set_ylabel('Number of Ratings', fontweight='bold')\n",
        "\n",
        "# Set a title for the bar plot with bold formatting and 14-point font size\n",
        "ax.set_title('Yearly Ratings Distribution', fontsize=14, fontweight='bold')\n",
        "\n",
        "# Add a legend\n",
        "ax.legend()\n",
        "\n",
        "# Show the bar plot\n",
        "plt.tight_layout()\n",
        "plt.show()\n"
      ]
    },
    {
      "cell_type": "markdown",
      "metadata": {
        "id": "uNj7orjlPmyG"
      },
      "source": [
        "**The distribution of ratings for Freedom Dept Relief Company over the years. Here are some key observations and comments:**\n",
        "\n",
        "1. **Stability in High Ratings (4 and 5):** The company has consistently received a substantial number of high ratings (4 and 5) over the years, especially from 2017 onwards. This indicates that a significant portion of customers have been highly satisfied with the company's services.\n",
        "\n",
        "2. **Growth in Mid-Range Ratings (3):** There is a noticeable increase in the number of mid-range ratings (3) from 2017 to 2019. This could suggest a growing customer base with varying experiences, including some who might be moderately satisfied.\n",
        "\n",
        "3. **Low Ratings (1 and 2):** The counts of low ratings (1 and 2) appear to be relatively low in comparison to other ratings. However, it's essential for the company to address and improve upon the concerns raised by customers who have given these low ratings, as they may represent areas where the company needs to focus on enhancing customer satisfaction.\n",
        "\n",
        "4. **Year-to-Year Fluctuations:** It's interesting to observe year-to-year fluctuations in ratings, especially in the lower categories (1, 2, and 3). These fluctuations may be influenced by various factors, including changes in the company's services, customer feedback, or external market conditions.\n",
        "\n",
        "5. **Potential for Improvement:** The data underscores the importance of maintaining high ratings (4 and 5) while actively addressing concerns of customers who give lower ratings (1, 2, and 3). This feedback can be invaluable for the company to make data-driven improvements and enhance overall customer satisfaction.\n",
        "\n",
        "In summary, analyzing the distribution of ratings by year provides insights into the company's performance and customer sentiment over time. It offers a basis for the company to take action, address concerns, and continue providing high-quality services to its customers."
      ]
    },
    {
      "cell_type": "markdown",
      "metadata": {
        "id": "BRQK2SLpPmyH"
      },
      "source": [
        "b. Time-Series Decomposition: Decompose time series data into trend, seasonal, and residual components to identify patterns and anomalies."
      ]
    },
    {
      "cell_type": "code",
      "execution_count": null,
      "metadata": {
        "id": "3uiWPXAyPmyH"
      },
      "outputs": [],
      "source": [
        "# Filter out rows with non-finite 'Review Date' values\n",
        "df = df[np.isfinite(df['Review Date'])]\n",
        "\n",
        "# Convert the 'Review Date' column to integers\n",
        "df['Review Year'] = df['Review Date'].dt.year.astype(int)\n",
        "\n",
        "# Group the data by year and calculate the count of ratings\n",
        "yearly_rating_counts = df.groupby('Review Year')['Rating'].value_counts().unstack().fillna(0)\n",
        "\n",
        "# Create a color palette for the pie charts\n",
        "colors = plt.cm.Paired(range(5))\n",
        "\n",
        "# Create a larger figure with a 3x4 grid of subplots\n",
        "fig, axes = plt.subplots(3, 4, figsize=(16, 12), gridspec_kw={'hspace': 0.6, 'wspace': 0.4})\n",
        "\n",
        "# Flatten the 2D array of subplots for easier indexing\n",
        "axes = np.ravel(axes)\n",
        "\n",
        "# Set the radius for the overall pie\n",
        "overall_pie_radius = 1.5\n",
        "\n",
        "\n",
        "for i, (year, ratings) in enumerate(yearly_rating_counts.iterrows()):\n",
        "    if i >= 12:\n",
        "        # We only have data for 12 years, so break the loop if we exceed 12 subplots\n",
        "        break\n",
        "\n",
        "    if ratings.sum() > 0:\n",
        "        # Create a pie chart with custom text properties\n",
        "        wedges, texts, autotexts = axes[i].pie(\n",
        "            ratings, labels=None, startangle=90, colors=colors, pctdistance=1.1, autopct='%1.1f%%',\n",
        "            textprops={'size': 8}\n",
        "        )\n",
        "\n",
        "        # Set the radius for the overall pie\n",
        "        for wedge in wedges:\n",
        "            wedge.set_radius(overall_pie_radius)\n",
        "\n",
        "        # Set a title for each pie chart above it\n",
        "        axes[i].set_title(f'{year}', fontsize=14, weight='bold', y=1.1)\n",
        "\n",
        "        # Equal aspect ratio ensures that the pie is drawn as a circle\n",
        "        axes[i].axis('equal')\n",
        "\n",
        "        # Print the values for each rating category for this year\n",
        "        for rating, count in ratings.items():\n",
        "            print(f'Year: {year}, Rating: {rating}, Count: {count}, Percentage: {count / ratings.sum() * 100:.1f}%')\n",
        "    else:\n",
        "        # Hide the subplot if there are no ratings for the year\n",
        "        axes[i].axis('off')\n",
        "\n",
        "# Create empty subplots for the missing pie charts in the 4th and 5th columns of the 3rd row\n",
        "for i in [10, 11]:\n",
        "    fig.delaxes(axes[i])\n",
        "    axes[i] = fig.add_subplot(3, 4, i + 1)\n",
        "    axes[i].axis('off')\n",
        "\n",
        "# Adjust spacing between subplots\n",
        "plt.tight_layout()\n",
        "\n",
        "# Add a title to the entire figure\n",
        "plt.suptitle('Yearly Ratings Distribution', fontsize=18, fontweight='bold')\n",
        "\n",
        "# Adjust title positions to avoid overlapping\n",
        "for ax in axes:\n",
        "    ax.title.set_y(1.15)  # Adjust the vertical position of titles\n",
        "\n",
        "\n",
        "# Adjust title positions to avoid overlapping\n",
        "for ax in axes:\n",
        "    ax.title.set_y(1.15)  # Adjust the vertical position of titles\n",
        "\n",
        "# Show the pie charts\n",
        "plt.show()\n"
      ]
    },
    {
      "cell_type": "markdown",
      "metadata": {
        "id": "l38IZFnBPmyH"
      },
      "source": [
        "**The distribution of ratings by year for Freedom Dept Relief Company, with the ratings categorized into five levels (1 to 5). Let's discuss and conclude based on the provided information:**\n",
        "\n",
        "1. **Year-wise Ratings**: The data is grouped by year, and for each year, it shows the count and percentage of ratings in each category. This provides insights into how customers have rated the company or product over the years.\n",
        "\n",
        "2. **Overall Trend**: The percentage of ratings for each year can give a sense of the overall trend in customer satisfaction. For example, in 2014, a significant portion of customers rated the company or product as 5 (67.8%), while in 2017, a higher percentage of customers rated it as 5 (76.8%). This suggests an improvement in customer satisfaction.\n",
        "\n",
        "3. **Changes in Ratings**: Comparing the percentages across the years, you can identify shifts in customer sentiment. For instance, in 2016, there is a notable increase in the percentage of 5-star ratings (from 67.8% to 71.7%), indicating an improved reputation. In contrast, the percentage of 1-star ratings decreases over the years.\n",
        "\n",
        "4. **Variability**: The data also reveals the variability in ratings. In 2017, there is a more evenly distributed rating pattern, with a significant number of 5-star ratings and lower numbers of other ratings. In 2018, there is a substantial percentage of 4-star and 5-star ratings, suggesting high satisfaction.\n",
        "\n",
        "5. **Management Insights**: Based on this data, company owners and managers can draw several insights:\n",
        "\n",
        "   - **Yearly Performance**: They can assess the performance and satisfaction of customers on a yearly basis. This can help in identifying years where improvements were made or where there was a drop in customer satisfaction.\n",
        "\n",
        "   - **Areas for Improvement**: For years with lower satisfaction, it's essential to dig deeper to understand the reasons behind the lower ratings. Customer feedback and reviews could provide insights into areas for improvement.\n",
        "\n",
        "   - **Customer Engagement**: The data can be used to analyze the impact of changes in products or services on customer ratings. Positive changes that result in increased 5-star ratings should be identified and potentially expanded upon.\n",
        "\n",
        "   - **Targeted Marketing**: Understanding customer sentiment over time can inform marketing strategies. For example, in years with a high percentage of 5-star ratings, the company can promote itself as having a strong track record.\n",
        "\n",
        "6. **Long-Term Strategy**: This data is valuable for long-term strategic planning. Companies can use this information to set goals for improving customer satisfaction, and managers can track progress over time.\n",
        "\n",
        "7. **Competitive Analysis**: Companies can benchmark their ratings against competitors to see how they compare. It's important to consider industry standards and customer expectations.\n",
        "\n",
        "In conclusion, the data provides valuable insights into the company's performance and customer satisfaction over the years. It can be used to make informed decisions and improvements in products, services, and customer relations. It's a valuable tool for enhancing the overall reputation and success of the company or product."
      ]
    },
    {
      "cell_type": "markdown",
      "metadata": {
        "id": "Hu1d4NRpPmyI"
      },
      "source": [
        "## Aggregation and Grouping (monthly, quarterly):\n",
        "\n",
        "a. Group Data by Time Period: Aggregate data by specific time intervals (monthly, quarterly) to analyze trends and patterns."
      ]
    },
    {
      "cell_type": "code",
      "execution_count": null,
      "metadata": {
        "tags": [],
        "id": "HTIdd8H-PmyI"
      },
      "outputs": [],
      "source": [
        "# Group data by quarter and calculate the mean rating for each quarter\n",
        "quarterly_mean_rating = df.groupby(df['Review Date'].dt.to_period('Q')).agg({'Rating': 'mean'})\n",
        "\n",
        "# Create a line plot for quarterly mean rating with enhanced styling\n",
        "plt.figure(figsize=(12, 6))\n",
        "plt.plot(\n",
        "    quarterly_mean_rating.index.strftime('%b %Y'),\n",
        "    quarterly_mean_rating['Rating'],\n",
        "    marker='o',\n",
        "    color='skyblue',\n",
        "    linewidth=2,\n",
        "    markersize=8,\n",
        ")\n",
        "\n",
        "# Set the y-axis range to 3.5 to 5\n",
        "plt.ylim(3.5, 5)\n",
        "\n",
        "# Add labels and titles\n",
        "plt.title('Quarterly Mean Rating', fontsize=16, fontweight='bold')\n",
        "plt.xlabel('Quarter', fontsize=14, fontweight='bold')\n",
        "plt.ylabel('Mean Rating', fontsize=14, fontweight='bold')\n",
        "\n",
        "# Rotate x-axis labels for readability (rotate 45 degrees)\n",
        "plt.xticks(rotation=45, ha=\"right\", fontsize=12)\n",
        "\n",
        "# Annotate data values on the line plot and draw lines to x-axis\n",
        "for x, y in zip(quarterly_mean_rating.index.strftime('%b %Y'), quarterly_mean_rating['Rating']):\n",
        "    plt.annotate(\n",
        "        f'{y:.2f}',\n",
        "        (x, y),\n",
        "        textcoords='offset points',\n",
        "        xytext=(0, -15),  # Adjust the y-coordinate to move labels to the bottom\n",
        "        ha='right',  # Rotate 45 degrees\n",
        "        fontsize=9,\n",
        "        color='black',\n",
        "        fontweight='bold',\n",
        "        rotation=45,  # Rotate the label\n",
        "    )\n",
        "    plt.vlines(x, 3.5, y, colors='gray', linestyles='dotted', lw=1)\n",
        "\n",
        "# Show the plot\n",
        "plt.tight_layout()\n",
        "plt.show()\n",
        "\n",
        "# Print information about the quarterly mean rating\n",
        "print(\"Quarterly Mean Rating:\")\n",
        "print(quarterly_mean_rating)\n"
      ]
    },
    {
      "cell_type": "markdown",
      "metadata": {
        "id": "AHPFOpJwPmyI"
      },
      "source": [
        "**Ratings by quarterly time intervals, allowing us to analyze trends and patterns over time. Let's discuss and conclude the information presented:**\n",
        "\n",
        "**Quarterly Mean Rating:**\n",
        "\n",
        "The table provides the mean rating for each quarter starting from 2014Q1 up to 2023Q4. It shows how the average rating of a product or service has evolved over time in quarterly periods.\n",
        "\n",
        "Here are the key observations and conclusions:\n",
        "\n",
        "1. **Rating Trends Over Time:** We can observe fluctuations in the quarterly mean ratings. Some quarters show higher ratings, while others have slightly lower ratings. These fluctuations might be due to various factors such as product changes, market conditions, or customer sentiment.\n",
        "\n",
        "2. **Seasonality:** There might be seasonality in the ratings. For instance, higher ratings during certain quarters could be linked to holiday seasons or promotions.\n",
        "\n",
        "3. **Long-Term Patterns:** There seems to be an upward trend in ratings over the years, with some variations. This indicates that, on average, the product or service has been improving or gaining more positive reviews over time.\n",
        "\n",
        "4. **Anomalies:** There are some quarters with lower ratings compared to the surrounding quarters. Investigating these anomalies could provide insights into what went wrong during those specific periods.\n",
        "\n",
        "5. **Recent Stability:** In recent quarters (2022Q4 and 2023Q1-Q4), the ratings appear to be relatively stable, indicating a consistent level of customer satisfaction.\n",
        "\n",
        "6. **Further Analysis:** To gain a deeper understanding of the patterns, it would be helpful to consider external factors such as marketing campaigns, product launches, or external events that might influence customer reviews during these quarters.\n",
        "\n",
        "In conclusion, analyzing the quarterly mean ratings is valuable for tracking trends, understanding seasonality, and assessing long-term changes in customer sentiment. Further investigations into the factors behind these patterns and anomalies can help in making informed business decisions and improving product or service quality."
      ]
    },
    {
      "cell_type": "markdown",
      "metadata": {
        "id": "Im0hPmqXPmyN"
      },
      "source": [
        "## Date-Related Calculations:\n",
        "\n",
        "a. Calculate Time Difference: Calculate the time difference between two date columns. For instance, you can calculate the response time by subtracting the review date from the reply date."
      ]
    },
    {
      "cell_type": "code",
      "execution_count": null,
      "metadata": {
        "tags": [],
        "id": "1vwrmccUPmyO"
      },
      "outputs": [],
      "source": [
        "df['Review Response'] = df['Review Date'] - df['Experience Date']\n",
        "\n",
        "df['Reply Response'] = df['Reply Date'] - df['Review Date']"
      ]
    },
    {
      "cell_type": "code",
      "execution_count": null,
      "metadata": {
        "tags": [],
        "id": "cJdLG7qwPmyO"
      },
      "outputs": [],
      "source": [
        "df.head()"
      ]
    },
    {
      "cell_type": "markdown",
      "metadata": {
        "id": "9K5GHao3PmyO"
      },
      "source": [
        "b. Extract Date Components: Extract specific components from the date, such as year, month, day, or weekday."
      ]
    },
    {
      "cell_type": "code",
      "execution_count": null,
      "metadata": {
        "tags": [],
        "id": "yWxAewsZPmyO"
      },
      "outputs": [],
      "source": [
        "df['Year'] = df['Review Date'].dt.year\n",
        "df['Month'] = df['Review Date'].dt.month\n",
        "df['Day'] = df['Review Date'].dt.day\n",
        "df['Weekday'] = df['Review Date'].dt.day_name()"
      ]
    },
    {
      "cell_type": "markdown",
      "metadata": {
        "id": "m4eH7nOMPmyO"
      },
      "source": [
        "### Ratings Over Time (Monthly Average)"
      ]
    },
    {
      "cell_type": "code",
      "execution_count": null,
      "metadata": {
        "tags": [],
        "id": "pGt-Wz3oPmyO"
      },
      "outputs": [],
      "source": [
        "# Downsample the data by averaging ratings by month\n",
        "monthly_ratings = df.resample('M', on='Review Date')['Rating'].mean().dropna()\n",
        "\n",
        "# Create a time series plot of downsampled ratings\n",
        "plt.figure(figsize=(12, 6))\n",
        "plt.plot(monthly_ratings.index, monthly_ratings.values, marker='o', linestyle='-', color='b')\n",
        "plt.title('Monthly Average Ratings Over Time', fontsize=18, fontweight='bold', color='red')  # Updated title color\n",
        "plt.xlabel('Date', fontsize=14, fontweight='bold')\n",
        "plt.ylabel('Average Rating', fontsize=14, fontweight='bold')\n",
        "plt.grid(True)\n",
        "\n",
        "# Set x-axis tick locator and formatter for years only\n",
        "years = mdates.YearLocator()\n",
        "years_fmt = mdates.DateFormatter('%Y')  # Display years as four-digit numbers\n",
        "\n",
        "plt.gca().xaxis.set_major_locator(years)\n",
        "plt.gca().xaxis.set_major_formatter(years_fmt)\n",
        "\n",
        "# Show the plot\n",
        "plt.tight_layout()\n",
        "plt.show()\n",
        "\n",
        "# Convert the downsampled ratings to a DataFrame\n",
        "monthly_ratings_df = monthly_ratings.to_frame().reset_index()\n",
        "monthly_ratings_df.columns = ['Date', 'Average Rating']\n",
        "\n",
        "# Save the DataFrame to a CSV file\n",
        "monthly_ratings_df.to_csv('monthly_ratings.csv', index=False)\n",
        "\n",
        "# Display the DataFrame\n",
        "print(\"Downsampled Monthly Ratings as DataFrame:\")\n",
        "print(monthly_ratings_df)\n"
      ]
    },
    {
      "cell_type": "markdown",
      "metadata": {
        "id": "euEcMWGcPmyP"
      },
      "source": [
        "### Visualization for Mean Rating by Year and Month:\n",
        "\n",
        "a. Calculate summary statistics for different time periods, such as the mean rating for each year or month."
      ]
    },
    {
      "cell_type": "code",
      "execution_count": null,
      "metadata": {
        "tags": [],
        "id": "F7FTDmxgPmyP"
      },
      "outputs": [],
      "source": [
        "# Mean rating by year\n",
        "mean_rating_by_year = df.groupby(df['Review Date'].dt.year)['Rating'].mean()"
      ]
    },
    {
      "cell_type": "code",
      "execution_count": null,
      "metadata": {
        "tags": [],
        "id": "YT8b_LTgPmyP"
      },
      "outputs": [],
      "source": [
        "# Calculate the mean rating by year\n",
        "mean_rating_by_year = df.groupby(df['Review Date'].dt.year)['Rating'].mean()\n",
        "\n",
        "# Calculate the mean rating by month\n",
        "mean_rating_by_month = df.groupby(df['Review Date'].dt.month)['Rating'].mean()\n",
        "\n",
        "# Print the results\n",
        "print(\"Mean Rating by Year:\")\n",
        "print(mean_rating_by_year)\n",
        "\n",
        "print(\"Mean Rating by Month:\")\n",
        "print(mean_rating_by_month)\n",
        "\n",
        "# Create subplots for both graphs\n",
        "fig, (ax1, ax2) = plt.subplots(2, 1, figsize=(12, 10))\n",
        "\n",
        "# Plot the mean rating by year\n",
        "ax1.plot(mean_rating_by_year.index, mean_rating_by_year.values, marker='o', linestyle='-', color='b')\n",
        "ax1.set_title('Mean Rating by Year', fontsize=16, color='red', fontweight='bold')\n",
        "ax1.set_xlabel('Year', fontsize=12, fontweight='bold')\n",
        "ax1.set_ylabel('Mean Rating', fontsize=12, fontweight='bold')\n",
        "ax1.grid(True)\n",
        "\n",
        "# Set custom x-axis ticks and labels to display all years for the yearly plot\n",
        "custom_xticks_yearly = mean_rating_by_year.index\n",
        "ax1.set_xticks(custom_xticks_yearly)\n",
        "ax1.set_xticklabels(custom_xticks_yearly, rotation=45)  # Rotating year labels for better readability\n",
        "\n",
        "# Annotate data points in the yearly plot\n",
        "for x, y in zip(custom_xticks_yearly, mean_rating_by_year.values):\n",
        "    ax1.annotate(f'{y:.2f}', (x, y), textcoords=\"offset points\", xytext=(0, 10), ha='center')\n",
        "\n",
        "# Plot the mean rating by month\n",
        "ax2.plot(mean_rating_by_month.index, mean_rating_by_month.values, marker='o', linestyle='-', color='g')\n",
        "ax2.set_title('Mean Rating by Month', fontsize=16, color='red', fontweight='bold')\n",
        "ax2.set_xlabel('Month', fontsize=12, fontweight='bold')\n",
        "ax2.set_ylabel('Mean Rating', fontsize=12, fontweight='bold')\n",
        "ax2.grid(True)\n",
        "\n",
        "# Set custom x-axis ticks and labels to display all 12 months for the monthly plot\n",
        "custom_xticks_monthly = list(range(1, 13))  # Months 1 to 12\n",
        "custom_xtick_labels_monthly = ['Jan', 'Feb', 'Mar', 'Apr', 'May', 'Jun', 'Jul', 'Aug', 'Sep', 'Oct', 'Nov', 'Dec']\n",
        "ax2.set_xticks(custom_xticks_monthly)\n",
        "ax2.set_xticklabels(custom_xtick_labels_monthly)  # Custom month labels\n",
        "\n",
        "# Annotate data points in the monthly plot\n",
        "for x, y in zip(mean_rating_by_month.index, mean_rating_by_month.values):\n",
        "    ax2.annotate(f'{y:.2f}', (x, y), textcoords=\"offset points\", xytext=(0, 10), ha='center')\n",
        "\n",
        "# Adjust spacing between subplots\n",
        "plt.tight_layout()\n",
        "\n",
        "# Show the plots\n",
        "plt.show()\n"
      ]
    },
    {
      "cell_type": "markdown",
      "metadata": {
        "id": "LR7Ud74DPmyP"
      },
      "source": [
        "The mean ratings based on two different time aggregations: by year and by month.\n",
        "\n",
        "Let's discuss and conclude the insights from this data:\n",
        "\n",
        "**Mean Rating by Year:**\n",
        "- The data shows the mean ratings for each year from 2014 to 2023.\n",
        "- In 2014, the mean rating was approximately 4.41, indicating a relatively positive sentiment in customer reviews.\n",
        "- The mean rating increased in 2015 to approximately 4.54, suggesting an improvement in customer satisfaction.\n",
        "- There was a slight decrease in the mean rating in 2016, dropping to around 4.42.\n",
        "- Subsequently, there was a consistent increase in mean ratings from 2017 to 2018, reaching a peak of about 4.66.\n",
        "- The mean rating remained relatively high in the following years, with fluctuations.\n",
        "- In 2023, the mean rating reached approximately 4.58.\n",
        "\n",
        "**Mean Rating by Month:**\n",
        "- This data provides the mean ratings for each month of the year.\n",
        "- January (1) and December (12) had the highest mean ratings, with approximately 4.60 and 4.65, respectively. These months might correspond to periods of higher customer satisfaction.\n",
        "- April (4) and October (10) had slightly lower mean ratings, around 4.58.\n",
        "- The months showed some fluctuations, but generally, the mean ratings remained above 4.57 throughout the year.\n",
        "\n",
        "**Conclusions:**\n",
        "- The mean rating by year provides insights into the overall customer satisfaction trends. While there were some fluctuations, it's evident that ratings improved from 2014 to 2018, remained relatively stable until 2022, and saw a slight increase in 2023.\n",
        "- The mean rating by month offers a more granular view of customer satisfaction throughout the year. January and December had the highest ratings, possibly due to seasonal factors or holidays.\n",
        "- The lowest ratings were observed in April and October, indicating periods when customers might be less satisfied.\n",
        "\n",
        "In both cases, this analysis provides valuable information about customer sentiment over time, which can be used for further investigation or decision-making, such as identifying areas for improvement or adjusting marketing strategies based on seasonal trends."
      ]
    },
    {
      "cell_type": "markdown",
      "metadata": {
        "id": "p9CHXvhUPmyP"
      },
      "source": [
        "### Time Series Plot of Ratings Over Time:"
      ]
    },
    {
      "cell_type": "markdown",
      "metadata": {
        "id": "gegYthFbPmyQ"
      },
      "source": [
        "\n",
        "\n",
        "If you want to visualize how ratings change over time, you can create a time series line chart."
      ]
    },
    {
      "cell_type": "markdown",
      "metadata": {
        "id": "EW7YFzB4PmyQ"
      },
      "source": [
        "This analyzed data includes customer ratings from March 2014 to October 2023, providing insights into customer sentiment and satisfaction trends. The objective is to inform data-driven decision-making and enhance our services to meet customer expectations.\n",
        "\n",
        "**Key Findings**\n",
        "\n",
        "1. **Consistent Positive Sentiment**: The data reveals a consistent positive sentiment among customers, with average ratings ranging between 4.2 and 4.7. This indicates a high level of overall satisfaction with our services.\n",
        "\n",
        "2. **Seasonal Variations**: Seasonal variations in ratings are observed, with some months showing higher average ratings and others lower. Identifying the factors contributing to these seasonal fluctuations can help optimize service delivery and resource allocation.\n",
        "\n",
        "3. **Annual Trends**: Over the years, annual trends are evident, with specific periods exhibiting higher or lower average ratings. Understanding these trends can inform strategic planning and resource allocation.\n",
        "\n",
        "4. **Data-Driven Decisions**: The dataset provides the opportunity to make data-driven decisions for service enhancement. Analyzing customer feedback and its correlation with ratings can guide improvements in specific areas of service delivery.\n",
        "\n",
        "5. **Competitive Advantage**: Maintaining consistently high ratings positions Freedom Debt Relief Company as a market leader. Leveraging customer satisfaction can attract new clients and bolster our competitive advantage.\n",
        "\n",
        "**Recommendations**\n",
        "\n",
        "- Further analysis is recommended to identify the specific drivers of seasonal and annual rating variations. This analysis should include examining customer feedback for insights.\n",
        "- Consider conducting a root cause analysis to identify any specific areas of improvement that can lead to enhanced customer satisfaction.\n",
        "\n",
        "Finally, Freedom Debt Relief Company enjoys a positive reputation with consistently high customer ratings. Leveraging this reputation for continuous improvement is essential for maintaining a competitive advantage. By delving deeper into the drivers of rating variations and aligning service delivery with customer expectations, we can further solidify our position in the market.\n"
      ]
    },
    {
      "cell_type": "code",
      "execution_count": null,
      "metadata": {
        "id": "1dx13dRxPmyQ"
      },
      "outputs": [],
      "source": [
        "# Calculate the mean rating by year\n",
        "mean_rating_by_year = df.groupby(df['Review Date'].dt.year)['Rating'].mean()\n",
        "\n",
        "# Print the results\n",
        "print(\"Mean Rating by Year:\")\n",
        "print(mean_rating_by_year)\n",
        "\n",
        "# Create a plot for the mean rating by year\n",
        "plt.figure(figsize=(12, 6))\n",
        "plt.plot(mean_rating_by_year.index, mean_rating_by_year.values, marker='o', linestyle='-', color='b')\n",
        "plt.title('Mean Rating by Year', fontsize=18, fontweight='bold', color='red')  # Title with 18 pt and bold\n",
        "plt.xlabel('Year', fontsize=12, fontweight='bold')  # xlabel with 12 pt and bold\n",
        "plt.ylabel('Mean Rating', fontsize=12, fontweight='bold')  # ylabel with 12 pt and bold\n",
        "plt.grid(True)\n",
        "\n",
        "# Set custom x-axis ticks and labels to display all years\n",
        "custom_xticks_yearly = mean_rating_by_year.index\n",
        "plt.xticks(custom_xticks_yearly, custom_xticks_yearly, rotation=45)  # Rotating year labels for better readability\n",
        "\n",
        "# Annotate data points in the yearly plot\n",
        "for x, y in zip(custom_xticks_yearly, mean_rating_by_year.values):\n",
        "    plt.annotate(f'{y:.2f}', (x, y), textcoords=\"offset points\", xytext=(0, 10), ha='center')\n",
        "\n",
        "# Show the plot\n",
        "plt.tight_layout()\n",
        "plt.show()\n"
      ]
    },
    {
      "cell_type": "code",
      "execution_count": null,
      "metadata": {
        "id": "Qg6OqVRyPmyQ"
      },
      "outputs": [],
      "source": [
        "# Calculate the mean rating by month\n",
        "mean_rating_by_month = df.groupby(df['Review Date'].dt.month)['Rating'].mean()\n",
        "\n",
        "# Print the results\n",
        "print(\"Mean Rating by Month:\")\n",
        "print(mean_rating_by_month)\n",
        "\n",
        "# Set seaborn style for enhanced aesthetics\n",
        "sns.set(style=\"whitegrid\")\n",
        "\n",
        "# Create a plot for the mean rating by month with enhanced styling\n",
        "plt.figure(figsize=(12, 6))\n",
        "plt.plot(mean_rating_by_month.index, mean_rating_by_month.values, marker='o', linestyle='-', color='g', linewidth=2)\n",
        "\n",
        "# Title with 18 pt and bold\n",
        "plt.title('Mean Rating by Month', fontsize=18, fontweight='bold', color='red')\n",
        "\n",
        "# xlabel with 12 pt and bold\n",
        "plt.xlabel('Month', fontsize=12, fontweight='bold')\n",
        "\n",
        "# ylabel with 12 pt and bold\n",
        "plt.ylabel('Mean Rating', fontsize=12, fontweight='bold')\n",
        "\n",
        "# Set custom x-axis ticks and labels to display all 12 months\n",
        "custom_xticks_monthly = list(range(1, 13))  # Months 1 to 12\n",
        "custom_xtick_labels_monthly = ['Jan', 'Feb', 'Mar', 'Apr', 'May', 'Jun', 'Jul', 'Aug', 'Sep', 'Oct', 'Nov', 'Dec']\n",
        "plt.xticks(custom_xticks_monthly, custom_xtick_labels_monthly)  # Custom month labels\n",
        "\n",
        "# Annotate data points in the monthly plot\n",
        "for x, y in zip(mean_rating_by_month.index, mean_rating_by_month.values):\n",
        "    plt.text(x, y, f'{y:.2f}', ha='center', va='bottom', fontsize=10, color='black')\n",
        "\n",
        "# Show the plot\n",
        "plt.tight_layout()\n",
        "plt.show()\n"
      ]
    },
    {
      "cell_type": "markdown",
      "metadata": {
        "id": "dxQOoqgFPmyR"
      },
      "source": [
        "### Histogram of Ratings:"
      ]
    },
    {
      "cell_type": "markdown",
      "metadata": {
        "id": "Ol6B1UDuPmyR"
      },
      "source": [
        "\n",
        "\n",
        "A histogram will show the distribution of ratings. You can see how many ratings fall into each category"
      ]
    },
    {
      "cell_type": "code",
      "execution_count": null,
      "metadata": {
        "tags": [],
        "id": "bmOgtUvtPmyR"
      },
      "outputs": [],
      "source": [
        "# Set a Seaborn style for better aesthetics\n",
        "sns.set(style=\"whitegrid\")\n",
        "\n",
        "# Create a bar plot of ratings\n",
        "plt.figure(figsize=(8, 6))\n",
        "rating_counts = df['Rating'].value_counts().sort_index()\n",
        "ax = plt.bar(rating_counts.index, rating_counts, color='skyblue', edgecolor='black')\n",
        "\n",
        "# Set custom bar labels at the center of each bar\n",
        "for bar in ax:\n",
        "    bar_x = bar.get_x() + bar.get_width() / 2\n",
        "    bar_height = bar.get_height()\n",
        "    plt.text(bar_x, bar_height, str(int(bar_height)), ha='center', va='bottom', fontsize=10, fontweight='bold')\n",
        "\n",
        "# Add title, xlabel, and ylabel with specified font sizes and styles\n",
        "plt.title('Distribution of Ratings', fontsize=18, fontweight='bold', color='red')\n",
        "plt.xlabel('Rating', fontsize=14, fontweight='bold')\n",
        "plt.ylabel('Count', fontsize=14, fontweight='bold')\n",
        "\n",
        "# Show the plot\n",
        "plt.tight_layout()\n",
        "plt.show()\n",
        "\n",
        "# Print information about the distribution of ratings\n",
        "print(\"Distribution of Ratings:\")\n",
        "print(rating_counts)\n"
      ]
    },
    {
      "cell_type": "markdown",
      "metadata": {
        "id": "VrjxjrEsPmyR"
      },
      "source": [
        "The distribution of ratings, as provided in the histogram results, offers insights into how customers have rated a product or service.\n",
        "\n",
        "Here is a discussion and conclusion based on the given distribution:\n",
        "\n",
        "**Distribution of Ratings:**\n",
        "- The data is divided into five rating categories: 1, 2, 3, 4, and 5.\n",
        "- Each category represents the number of reviews with that particular rating.\n",
        "- The highest number of reviews falls into the 5-star category, with a count of 30,639.\n",
        "- The 4-star rating is the second most common, with 4,758 reviews.\n",
        "- The 3-star rating has a count of 1,622.\n",
        "- The 2-star rating is the least common among positive ratings, with only 694 reviews.\n",
        "- The lowest rating, 1 star, has a count of 1,365.\n",
        "\n",
        "**Discussion:**\n",
        "- The data clearly shows that the majority of customers have given positive ratings, with 5-star and 4-star ratings being the most prevalent. This indicates that a substantial portion of customers are satisfied with the product or service, as these ratings are above the median score (3).\n",
        "- The distribution is right-skewed, meaning there are far more positive reviews than negative ones. This skew suggests that the product or service generally meets customer expectations or even exceeds them.\n",
        "- The relatively low counts in the 1-star and 2-star categories suggest that only a minority of customers expressed strong dissatisfaction.\n",
        "- The 3-star category, while not as common as 4-star and 5-star ratings, still has a notable number of reviews, indicating a moderate level of satisfaction.\n",
        "\n",
        "**Conclusion:**\n",
        "The distribution of ratings reflects a generally positive sentiment among customers who have left reviews. The bulk of reviews fall into the higher rating categories, suggesting that the product or service is well-received. However, the existence of lower ratings (1 to 3 stars) indicates that there is room for improvement or that a subset of customers had less positive experiences.\n",
        "\n",
        "To draw more specific conclusions or make further decisions based on this data, it may be helpful to conduct sentiment analysis on the reviews themselves or to analyze other factors, such as the time of the reviews or the topics mentioned in the reviews. This additional context can provide a deeper understanding of customer feedback."
      ]
    },
    {
      "cell_type": "markdown",
      "source": [
        "### TEXT PREPROCESSING"
      ],
      "metadata": {
        "id": "mdK6T1qMledz"
      }
    },
    {
      "cell_type": "markdown",
      "metadata": {
        "id": "NAFEaX2MPmyR"
      },
      "source": [
        "#### Concatenate Review Title and Review Text Columns"
      ]
    },
    {
      "cell_type": "code",
      "execution_count": null,
      "metadata": {
        "id": "M9nwd_KkPmyR"
      },
      "outputs": [],
      "source": [
        "columns_to_concat = ['Review Title', 'Review Text']\n",
        "\n",
        "# Concatenate the selected columns into a new column 'Concatenated_Text'\n",
        "df['Concatenated_Text'] = df[columns_to_concat].apply(lambda x: ' '.join(x.dropna().astype(str)), axis=1)"
      ]
    },
    {
      "cell_type": "markdown",
      "metadata": {
        "id": "2oCE2RZtPmyS"
      },
      "source": [
        "#### Text Preprocessing\n",
        "\n",
        "Before performing NLP tasks, it's important to preprocess the text data, which typically involves removing stopwords, punctuation, and converting text to lowercase."
      ]
    },
    {
      "cell_type": "code",
      "execution_count": null,
      "metadata": {
        "id": "5IdeUU1NPmyS"
      },
      "outputs": [],
      "source": [
        "def preprocess_text(text):\n",
        "    if isinstance(text, str):  # Check if the value is a string\n",
        "        # Remove emojis from the text and store them separately\n",
        "        emojis = [c for c in text if c in emoji.UNICODE_EMOJI]\n",
        "\n",
        "        # Tokenize the text\n",
        "        words = word_tokenize(text.lower())\n",
        "\n",
        "        # Remove stopwords and punctuation\n",
        "        words = [word for word in words if word.isalnum() and word not in stopwords.words('english')]\n",
        "\n",
        "        # Lemmatize words\n",
        "        lemmatizer = WordNetLemmatizer()\n",
        "        words = [lemmatizer.lemmatize(word) for word in words]\n",
        "\n",
        "        # Combine words and emojis back into a preprocessed text\n",
        "        preprocessed_text = ' '.join(words) + ' '.join(emojis)\n",
        "        return preprocessed_text\n",
        "    else:\n",
        "        return ''  # Return an empty string for non-text values (NaN)"
      ]
    },
    {
      "cell_type": "code",
      "execution_count": null,
      "metadata": {
        "id": "Grb7ifl5PmyS"
      },
      "outputs": [],
      "source": [
        "def preprocess_text(text):\n",
        "    if isinstance(text, str):  # Check if the value is a string\n",
        "        # Remove emojis from the text\n",
        "        text = re.sub(r'[\\U0001F600-\\U0001F64F\\U0001F300-\\U0001F5FF\\U0001F680-\\U0001F6FF\\U0001F700-\\U0001F77F\\U0001F780-\\U0001F7FF\\U0001F800-\\U0001F8FF\\U0001F900-\\U0001F9FF\\U0001FA00-\\U0001FA6F\\U0001FA70-\\U0001FAFF\\U0001FB00-\\U0001FBFF\\U0001FC00-\\U0001FCFF\\U0001FD00-\\U0001FDFF\\U0001FE00-\\U0001FEFF\\U0001FF00-\\U0001FFFF]+', '', text)\n",
        "\n",
        "        # Tokenize the text\n",
        "        words = word_tokenize(text.lower())\n",
        "\n",
        "        # Remove stopwords and punctuation\n",
        "        words = [word for word in words if word.isalnum() and word not in stopwords.words('english')]\n",
        "\n",
        "        # Lemmatize words\n",
        "        lemmatizer = WordNetLemmatizer()\n",
        "        words = [lemmatizer.lemmatize(word) for word in words]\n",
        "\n",
        "        return ' '.join(words)\n",
        "    else:\n",
        "        return ''  # Return an empty string for non-text values (NaN)"
      ]
    },
    {
      "cell_type": "code",
      "execution_count": null,
      "metadata": {
        "id": "igjlhqklPmyS"
      },
      "outputs": [],
      "source": [
        "df['Cleaned_Concatenated_Text'] = df['Concatenated_Text'].apply(preprocess_text)"
      ]
    },
    {
      "cell_type": "code",
      "source": [
        "df.head()"
      ],
      "metadata": {
        "id": "9CIE5YV7pKHZ"
      },
      "execution_count": null,
      "outputs": []
    },
    {
      "cell_type": "code",
      "source": [
        "df.info()"
      ],
      "metadata": {
        "id": "xk8CYG-QpOrW"
      },
      "execution_count": null,
      "outputs": []
    },
    {
      "cell_type": "code",
      "source": [
        "# Assuming df is your DataFrame\n",
        "df.to_csv('Freedom_Debt_Relief2.csv', index=False)"
      ],
      "metadata": {
        "id": "0fyTiFZ_l9hL"
      },
      "execution_count": null,
      "outputs": []
    }
  ],
  "metadata": {
    "colab": {
      "provenance": [],
      "gpuType": "T4",
      "include_colab_link": true
    },
    "kernelspec": {
      "display_name": "Python 3",
      "name": "python3"
    },
    "language_info": {
      "codemirror_mode": {
        "name": "ipython",
        "version": 3
      },
      "file_extension": ".py",
      "mimetype": "text/x-python",
      "name": "python",
      "nbconvert_exporter": "python",
      "pygments_lexer": "ipython3",
      "version": "3.11.0"
    },
    "accelerator": "GPU"
  },
  "nbformat": 4,
  "nbformat_minor": 0
}